{
 "cells": [
  {
   "cell_type": "code",
   "execution_count": 1,
   "metadata": {},
   "outputs": [
    {
     "data": {
      "text/plain": [
       "'/Users/igoracmorais/igor/Wise&Trust/CPM_trading2/Trading/Rotines/Python'"
      ]
     },
     "execution_count": 1,
     "metadata": {},
     "output_type": "execute_result"
    }
   ],
   "source": [
    "import pandas as pd\n",
    "import numpy as np\n",
    "import talib as ta\n",
    "from mpl_finance import candlestick_ohlc\n",
    "import matplotlib.dates as mdates\n",
    "import matplotlib.pyplot as plt\n",
    "%matplotlib inline\n",
    "import seaborn as sns\n",
    "import os\n",
    "from scipy.signal import argrelextrema\n",
    "import json\n",
    "from bs4 import BeautifulSoup\n",
    "import requests \n",
    "import urllib.request\n",
    "import datetime\n",
    "from datetime import timedelta, datetime\n",
    "import time\n",
    "diretorio= os.getcwd()\n",
    "diretorio"
   ]
  },
  {
   "cell_type": "code",
   "execution_count": 75,
   "metadata": {
    "collapsed": true
   },
   "outputs": [],
   "source": [
    "data=pd.read_csv(diretorio+\"/btc.csv\",sep=\";\",index_col=\"datetime\")"
   ]
  },
  {
   "cell_type": "code",
   "execution_count": 76,
   "metadata": {
    "collapsed": true
   },
   "outputs": [],
   "source": [
    "def mfi(data,overbought=90,oversold=20,time=[]):\n",
    "    for mfii in time:\n",
    "        data[\"mfi_\"+str(mfii)]=ta.MFI(data.high,data.low,data.close,data.volume,timeperiod=mfii)\n",
    "        data[\"mfi_s\"+str(mfii)]=0\n",
    "        data.loc[(data[\"mfi_\"+str(mfii)] >= overbought),\"mfi_s\"+str(mfii)]=-1\n",
    "        data.loc[(data[\"mfi_\"+str(mfii)] <= oversold),\"mfi_s\"+str(mfii)]=1\n",
    "    return data"
   ]
  },
  {
   "cell_type": "code",
   "execution_count": 105,
   "metadata": {
    "collapsed": true
   },
   "outputs": [],
   "source": [
    "# Candlestick graph\n",
    "import warnings\n",
    "warnings.filterwarnings(\"ignore\")\n",
    "def candle_mfi(data,n=200,nome_coluna_datas=\"datetime\",coluna_sinal=\"mfi_14\"):\n",
    "    ohlc=data.reset_index()[-n:]\n",
    "    ohlc[nome_coluna_datas]=pd.to_datetime(ohlc[nome_coluna_datas])\n",
    "    ohlc[nome_coluna_datas]=ohlc[nome_coluna_datas].apply(mdates.date2num)\n",
    "    #\n",
    "    plt.style.use('fivethirtyeight')\n",
    "    fig = plt.figure(figsize=(7,8)) \n",
    "    ax1 = plt.subplot2grid((7,1), (0, 0),rowspan=3)\n",
    "    ax2 = plt.subplot2grid((7,1), (3, 0),rowspan=2)\n",
    "    ax3 = plt.subplot2grid((7,1), (5, 0),rowspan=2)\n",
    "    ax1.axes.get_xaxis().set_visible(False)\n",
    "    ax2.axes.get_xaxis().set_visible(False)\n",
    "    ax1.yaxis.set_tick_params(labelsize=12)\n",
    "    ax2.set_ylabel('volume', fontsize=14)\n",
    "    ax2.yaxis.set_tick_params(labelsize=12)\n",
    "    ax3.set_ylabel(coluna_sinal, fontsize=14)\n",
    "    ax3.yaxis.set_tick_params(labelsize=12)\n",
    "    #\n",
    "    candlestick_ohlc(ax1, ohlc.values, width=.6, colorup='green', colordown='red')\n",
    "    # volume graph\n",
    "    ohlc.loc[:,\"volup\"]=np.nan\n",
    "    ohlc.loc[:,\"voldown\"]=np.nan\n",
    "    ohlc.loc[:,\"r\"]=ohlc.close.pct_change(1)\n",
    "    ohlc.loc[ohlc['r'] > 0,\"volup\"]=ohlc.volume\n",
    "    ohlc.loc[ohlc['r'] <0,\"voldown\"]=ohlc.volume\n",
    "    ax2.bar(ohlc[nome_coluna_datas], ohlc['volup'], color = 'green', lw=1)\n",
    "    ax2.bar(ohlc[nome_coluna_datas], ohlc['voldown'], color = 'red', lw=1)\n",
    "    plt.yticks(fontsize=8)\n",
    "    # mfi\n",
    "    ax3.plot(ohlc[nome_coluna_datas],ohlc[coluna_sinal],lw=1,color='black')\n",
    "    ax3.xaxis.set_major_formatter(mdates.DateFormatter('%Y-%m'))\n",
    "    import matplotlib.ticker as ticker\n",
    "    ax3.xaxis.set_major_locator(ticker.MaxNLocator(10))\n",
    "    plt.xticks(fontsize=8)\n",
    "    return plt.show()"
   ]
  },
  {
   "cell_type": "markdown",
   "metadata": {},
   "source": [
    "## Exemplo"
   ]
  },
  {
   "cell_type": "code",
   "execution_count": 95,
   "metadata": {},
   "outputs": [
    {
     "data": {
      "text/html": [
       "<div>\n",
       "<style>\n",
       "    .dataframe thead tr:only-child th {\n",
       "        text-align: right;\n",
       "    }\n",
       "\n",
       "    .dataframe thead th {\n",
       "        text-align: left;\n",
       "    }\n",
       "\n",
       "    .dataframe tbody tr th {\n",
       "        vertical-align: top;\n",
       "    }\n",
       "</style>\n",
       "<table border=\"1\" class=\"dataframe\">\n",
       "  <thead>\n",
       "    <tr style=\"text-align: right;\">\n",
       "      <th></th>\n",
       "      <th>open</th>\n",
       "      <th>high</th>\n",
       "      <th>low</th>\n",
       "      <th>close</th>\n",
       "      <th>volume</th>\n",
       "      <th>mfi_7</th>\n",
       "      <th>mfi_s7</th>\n",
       "      <th>mfi_14</th>\n",
       "      <th>mfi_s14</th>\n",
       "      <th>mfi_21</th>\n",
       "      <th>mfi_s21</th>\n",
       "      <th>volup</th>\n",
       "      <th>voldown</th>\n",
       "      <th>r</th>\n",
       "    </tr>\n",
       "    <tr>\n",
       "      <th>datetime</th>\n",
       "      <th></th>\n",
       "      <th></th>\n",
       "      <th></th>\n",
       "      <th></th>\n",
       "      <th></th>\n",
       "      <th></th>\n",
       "      <th></th>\n",
       "      <th></th>\n",
       "      <th></th>\n",
       "      <th></th>\n",
       "      <th></th>\n",
       "      <th></th>\n",
       "      <th></th>\n",
       "      <th></th>\n",
       "    </tr>\n",
       "  </thead>\n",
       "  <tbody>\n",
       "    <tr>\n",
       "      <th>2018-10-14</th>\n",
       "      <td>6267.27</td>\n",
       "      <td>6346.56</td>\n",
       "      <td>6247.17</td>\n",
       "      <td>6277.73</td>\n",
       "      <td>2.154229e+08</td>\n",
       "      <td>31.169929</td>\n",
       "      <td>0</td>\n",
       "      <td>31.393337</td>\n",
       "      <td>0</td>\n",
       "      <td>40.837938</td>\n",
       "      <td>0</td>\n",
       "      <td>2.154229e+08</td>\n",
       "      <td>NaN</td>\n",
       "      <td>0.001669</td>\n",
       "    </tr>\n",
       "    <tr>\n",
       "      <th>2018-10-15</th>\n",
       "      <td>6277.73</td>\n",
       "      <td>7234.83</td>\n",
       "      <td>6244.77</td>\n",
       "      <td>6612.36</td>\n",
       "      <td>1.190524e+09</td>\n",
       "      <td>51.775236</td>\n",
       "      <td>0</td>\n",
       "      <td>50.559924</td>\n",
       "      <td>0</td>\n",
       "      <td>53.055966</td>\n",
       "      <td>0</td>\n",
       "      <td>1.190524e+09</td>\n",
       "      <td>NaN</td>\n",
       "      <td>0.053304</td>\n",
       "    </tr>\n",
       "    <tr>\n",
       "      <th>2018-10-16</th>\n",
       "      <td>6612.69</td>\n",
       "      <td>6612.99</td>\n",
       "      <td>6583.30</td>\n",
       "      <td>6606.12</td>\n",
       "      <td>8.020117e+06</td>\n",
       "      <td>55.633064</td>\n",
       "      <td>0</td>\n",
       "      <td>53.452511</td>\n",
       "      <td>0</td>\n",
       "      <td>56.326038</td>\n",
       "      <td>0</td>\n",
       "      <td>NaN</td>\n",
       "      <td>8020116.71</td>\n",
       "      <td>-0.000944</td>\n",
       "    </tr>\n",
       "  </tbody>\n",
       "</table>\n",
       "</div>"
      ],
      "text/plain": [
       "               open     high      low    close        volume      mfi_7  \\\n",
       "datetime                                                                  \n",
       "2018-10-14  6267.27  6346.56  6247.17  6277.73  2.154229e+08  31.169929   \n",
       "2018-10-15  6277.73  7234.83  6244.77  6612.36  1.190524e+09  51.775236   \n",
       "2018-10-16  6612.69  6612.99  6583.30  6606.12  8.020117e+06  55.633064   \n",
       "\n",
       "            mfi_s7     mfi_14  mfi_s14     mfi_21  mfi_s21         volup  \\\n",
       "datetime                                                                   \n",
       "2018-10-14       0  31.393337        0  40.837938        0  2.154229e+08   \n",
       "2018-10-15       0  50.559924        0  53.055966        0  1.190524e+09   \n",
       "2018-10-16       0  53.452511        0  56.326038        0           NaN   \n",
       "\n",
       "               voldown         r  \n",
       "datetime                          \n",
       "2018-10-14         NaN  0.001669  \n",
       "2018-10-15         NaN  0.053304  \n",
       "2018-10-16  8020116.71 -0.000944  "
      ]
     },
     "execution_count": 95,
     "metadata": {},
     "output_type": "execute_result"
    }
   ],
   "source": [
    "df=mfi(data,time=[7,14,21])\n",
    "df.tail(3)"
   ]
  },
  {
   "cell_type": "code",
   "execution_count": 106,
   "metadata": {},
   "outputs": [
    {
     "data": {
      "image/png": "[encoded data removed]",
      "text/plain": [
       "<matplotlib.figure.Figure at 0x116d35630>"
      ]
     },
     "metadata": {},
     "output_type": "display_data"
    }
   ],
   "source": [
    "candle_mfi(df)"
   ]
  },
  {
   "cell_type": "code",
   "execution_count": null,
   "metadata": {
    "collapsed": true
   },
   "outputs": [],
   "source": []
  }
 ],
 "metadata": {
  "kernelspec": {
   "display_name": "Python 3",
   "language": "python",
   "name": "python3"
  },
  "language_info": {
   "codemirror_mode": {
    "name": "ipython",
    "version": 3
   },
   "file_extension": ".py",
   "mimetype": "text/x-python",
   "name": "python",
   "nbconvert_exporter": "python",
   "pygments_lexer": "ipython3",
   "version": "3.6.3"
  }
 },
 "nbformat": 4,
 "nbformat_minor": 2
}
