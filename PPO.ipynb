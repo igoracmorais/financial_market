{
 "cells": [
  {
   "cell_type": "code",
   "execution_count": 1,
   "metadata": {},
   "outputs": [
    {
     "data": {
      "text/plain": [
       "'/Users/igoracmorais/igor/Wise&Trust/CPM_trading2/Trading/Rotines/Python'"
      ]
     },
     "execution_count": 1,
     "metadata": {},
     "output_type": "execute_result"
    }
   ],
   "source": [
    "import pandas as pd\n",
    "import numpy as np\n",
    "import talib as ta\n",
    "from mpl_finance import candlestick_ohlc\n",
    "import matplotlib.dates as mdates\n",
    "import matplotlib.pyplot as plt\n",
    "%matplotlib inline\n",
    "import seaborn as sns\n",
    "import os\n",
    "from scipy.signal import argrelextrema, find_peaks_cwt\n",
    "import json\n",
    "from bs4 import BeautifulSoup\n",
    "import requests \n",
    "import urllib.request\n",
    "import datetime\n",
    "from datetime import timedelta, datetime\n",
    "import time\n",
    "from scipy import signal\n",
    "diretorio= os.getcwd()\n",
    "diretorio"
   ]
  },
  {
   "cell_type": "code",
   "execution_count": 2,
   "metadata": {
    "collapsed": true
   },
   "outputs": [],
   "source": [
    "data=pd.read_csv(diretorio+\"/btc.csv\",sep=\";\",index_col=\"datetime\")"
   ]
  },
  {
   "cell_type": "code",
   "execution_count": 3,
   "metadata": {
    "collapsed": true
   },
   "outputs": [],
   "source": [
    "def ppo(data,EMA_fast=[],EMA_slow=[]):\n",
    "    for pf in EMA_fast:\n",
    "        for ps in EMA_slow:\n",
    "            data[\"ppo_\"+str(pf)+'_'+str(ps)]=ta.PPO(data.close,fastperiod=pf,slowperiod=ps,matype=0)\n",
    "    return data"
   ]
  },
  {
   "cell_type": "code",
   "execution_count": 33,
   "metadata": {
    "collapsed": true
   },
   "outputs": [],
   "source": [
    "# Candlestick graph\n",
    "def candle_graph_ppo(data,nome_coluna_datas=\"datetime\",n=200,**colunas):\n",
    "    ohlc=data.reset_index()[-n:]\n",
    "    ohlc[nome_coluna_datas]=pd.to_datetime(ohlc[nome_coluna_datas])\n",
    "    ohlc[nome_coluna_datas]=ohlc[nome_coluna_datas].apply(mdates.date2num)\n",
    "    #\n",
    "    plt.style.use('fivethirtyeight')\n",
    "    fig = plt.figure(figsize=(6,8)) \n",
    "    ax1 = plt.subplot2grid((6,1), (0, 0),rowspan=3)\n",
    "    ax2 = plt.subplot2grid((6,1), (3, 0),rowspan=2)\n",
    "    ax1.axes.get_xaxis().set_visible(False)\n",
    "    candlestick_ohlc(ax1, ohlc.values, width=.6, colorup='green', colordown='red')\n",
    "    #\n",
    "    from matplotlib.pyplot import cm\n",
    "    colors=[\"r\",\"b\",\"gray\",\"green\",\"w\"]\n",
    "    for cor in range(len(colunas)):\n",
    "        for key,value in colunas.items():\n",
    "            ax2.plot(ohlc[nome_coluna_datas], ohlc[value], color = colors[cor], lw=1,label=value)\n",
    "    ax2.xaxis.set_major_formatter(mdates.DateFormatter('%Y-%m'))\n",
    "    import matplotlib.ticker as ticker\n",
    "    ax2.xaxis.set_major_locator(ticker.MaxNLocator(10))\n",
    "    plt.xticks(fontsize=8)\n",
    "    ax2.legend(loc=1,fontsize=8)\n",
    "    return plt.show()"
   ]
  },
  {
   "cell_type": "markdown",
   "metadata": {},
   "source": [
    "## Exemplo:"
   ]
  },
  {
   "cell_type": "code",
   "execution_count": 4,
   "metadata": {},
   "outputs": [
    {
     "data": {
      "text/html": [
       "<div>\n",
       "<style>\n",
       "    .dataframe thead tr:only-child th {\n",
       "        text-align: right;\n",
       "    }\n",
       "\n",
       "    .dataframe thead th {\n",
       "        text-align: left;\n",
       "    }\n",
       "\n",
       "    .dataframe tbody tr th {\n",
       "        vertical-align: top;\n",
       "    }\n",
       "</style>\n",
       "<table border=\"1\" class=\"dataframe\">\n",
       "  <thead>\n",
       "    <tr style=\"text-align: right;\">\n",
       "      <th></th>\n",
       "      <th>open</th>\n",
       "      <th>high</th>\n",
       "      <th>low</th>\n",
       "      <th>close</th>\n",
       "      <th>volume</th>\n",
       "      <th>ppo_7_26</th>\n",
       "      <th>ppo_7_36</th>\n",
       "      <th>ppo_7_40</th>\n",
       "      <th>ppo_14_26</th>\n",
       "      <th>ppo_14_36</th>\n",
       "      <th>ppo_14_40</th>\n",
       "      <th>ppo_21_26</th>\n",
       "      <th>ppo_21_36</th>\n",
       "      <th>ppo_21_40</th>\n",
       "    </tr>\n",
       "    <tr>\n",
       "      <th>datetime</th>\n",
       "      <th></th>\n",
       "      <th></th>\n",
       "      <th></th>\n",
       "      <th></th>\n",
       "      <th></th>\n",
       "      <th></th>\n",
       "      <th></th>\n",
       "      <th></th>\n",
       "      <th></th>\n",
       "      <th></th>\n",
       "      <th></th>\n",
       "      <th></th>\n",
       "      <th></th>\n",
       "      <th></th>\n",
       "    </tr>\n",
       "  </thead>\n",
       "  <tbody>\n",
       "    <tr>\n",
       "      <th>2018-10-21</th>\n",
       "      <td>6490.60</td>\n",
       "      <td>6557.39</td>\n",
       "      <td>6474.47</td>\n",
       "      <td>6509.87</td>\n",
       "      <td>1.052839e+08</td>\n",
       "      <td>0.131794</td>\n",
       "      <td>0.141411</td>\n",
       "      <td>0.239905</td>\n",
       "      <td>-0.809902</td>\n",
       "      <td>-0.800375</td>\n",
       "      <td>-0.702807</td>\n",
       "      <td>-0.285718</td>\n",
       "      <td>-0.276141</td>\n",
       "      <td>-0.178057</td>\n",
       "    </tr>\n",
       "    <tr>\n",
       "      <th>2018-10-22</th>\n",
       "      <td>6509.87</td>\n",
       "      <td>6531.23</td>\n",
       "      <td>6460.38</td>\n",
       "      <td>6483.23</td>\n",
       "      <td>2.027669e+08</td>\n",
       "      <td>-0.163106</td>\n",
       "      <td>-0.133204</td>\n",
       "      <td>-0.099155</td>\n",
       "      <td>-1.004607</td>\n",
       "      <td>-0.974958</td>\n",
       "      <td>-0.941195</td>\n",
       "      <td>-0.379401</td>\n",
       "      <td>-0.349564</td>\n",
       "      <td>-0.315588</td>\n",
       "    </tr>\n",
       "    <tr>\n",
       "      <th>2018-10-23</th>\n",
       "      <td>6484.32</td>\n",
       "      <td>6490.71</td>\n",
       "      <td>6450.55</td>\n",
       "      <td>6450.55</td>\n",
       "      <td>1.040892e+08</td>\n",
       "      <td>-0.314778</td>\n",
       "      <td>-0.503503</td>\n",
       "      <td>-0.373609</td>\n",
       "      <td>-1.065628</td>\n",
       "      <td>-1.252931</td>\n",
       "      <td>-1.124016</td>\n",
       "      <td>-0.295623</td>\n",
       "      <td>-0.484384</td>\n",
       "      <td>-0.354466</td>\n",
       "    </tr>\n",
       "  </tbody>\n",
       "</table>\n",
       "</div>"
      ],
      "text/plain": [
       "               open     high      low    close        volume  ppo_7_26  \\\n",
       "datetime                                                                 \n",
       "2018-10-21  6490.60  6557.39  6474.47  6509.87  1.052839e+08  0.131794   \n",
       "2018-10-22  6509.87  6531.23  6460.38  6483.23  2.027669e+08 -0.163106   \n",
       "2018-10-23  6484.32  6490.71  6450.55  6450.55  1.040892e+08 -0.314778   \n",
       "\n",
       "            ppo_7_36  ppo_7_40  ppo_14_26  ppo_14_36  ppo_14_40  ppo_21_26  \\\n",
       "datetime                                                                     \n",
       "2018-10-21  0.141411  0.239905  -0.809902  -0.800375  -0.702807  -0.285718   \n",
       "2018-10-22 -0.133204 -0.099155  -1.004607  -0.974958  -0.941195  -0.379401   \n",
       "2018-10-23 -0.503503 -0.373609  -1.065628  -1.252931  -1.124016  -0.295623   \n",
       "\n",
       "            ppo_21_36  ppo_21_40  \n",
       "datetime                          \n",
       "2018-10-21  -0.276141  -0.178057  \n",
       "2018-10-22  -0.349564  -0.315588  \n",
       "2018-10-23  -0.484384  -0.354466  "
      ]
     },
     "execution_count": 4,
     "metadata": {},
     "output_type": "execute_result"
    }
   ],
   "source": [
    "df=ppo(data,EMA_fast=[7,14,21],EMA_slow=[26,36,40])\n",
    "df.tail(3)"
   ]
  },
  {
   "cell_type": "code",
   "execution_count": 38,
   "metadata": {},
   "outputs": [
    {
     "data": {
      "image/png": "[encoded data removed]",
      "text/plain": [
       "<matplotlib.figure.Figure at 0x10cc575f8>"
      ]
     },
     "metadata": {},
     "output_type": "display_data"
    }
   ],
   "source": [
    "candle_graph_ppo(df,linha=['ppo_7_26','ppo_14_40'])"
   ]
  },
  {
   "cell_type": "code",
   "execution_count": null,
   "metadata": {
    "collapsed": true
   },
   "outputs": [],
   "source": []
  }
 ],
 "metadata": {
  "kernelspec": {
   "display_name": "Python 3",
   "language": "python",
   "name": "python3"
  },
  "language_info": {
   "codemirror_mode": {
    "name": "ipython",
    "version": 3
   },
   "file_extension": ".py",
   "mimetype": "text/x-python",
   "name": "python",
   "nbconvert_exporter": "python",
   "pygments_lexer": "ipython3",
   "version": "3.6.3"
  }
 },
 "nbformat": 4,
 "nbformat_minor": 2
}
