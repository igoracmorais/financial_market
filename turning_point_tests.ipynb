{
 "cells": [
  {
   "cell_type": "markdown",
   "metadata": {},
   "source": [
    "## Turning Point Test and pattern recognition\n",
    "https://docs.scipy.org/doc/scipy/reference/signal.html"
   ]
  },
  {
   "cell_type": "markdown",
   "metadata": {
    "collapsed": true
   },
   "source": [
    "1. Peak Finding  <br>\n",
    "... argrelmin   <br>\n",
    "... argrelmax <br>\n",
    "... argrelextrema <br>\n",
    "... find_peaks <br>\n",
    "... find_peaks_cwt <br>\n",
    "2. Pattern recognition"
   ]
  },
  {
   "cell_type": "code",
   "execution_count": 1,
   "metadata": {
    "collapsed": true
   },
   "outputs": [],
   "source": [
    "import pandas as pd\n",
    "import numpy as np\n",
    "import talib as ta\n",
    "import os\n",
    "import seaborn as sns\n",
    "import matplotlib.pyplot as plt\n",
    "%matplotlib inline\n",
    "import talib as ta\n",
    "from scipy.signal import argrelmin, argrelmax, argrelextrema, find_peaks_cwt"
   ]
  },
  {
   "cell_type": "code",
   "execution_count": 27,
   "metadata": {},
   "outputs": [
    {
     "name": "stdout",
     "output_type": "stream",
     "text": [
      "/Users/igoracmorais/igor/Wise&Trust/CPM_trading2/Trading/Rotines/Python\n"
     ]
    },
    {
     "data": {
      "text/html": [
       "<div>\n",
       "<style>\n",
       "    .dataframe thead tr:only-child th {\n",
       "        text-align: right;\n",
       "    }\n",
       "\n",
       "    .dataframe thead th {\n",
       "        text-align: left;\n",
       "    }\n",
       "\n",
       "    .dataframe tbody tr th {\n",
       "        vertical-align: top;\n",
       "    }\n",
       "</style>\n",
       "<table border=\"1\" class=\"dataframe\">\n",
       "  <thead>\n",
       "    <tr style=\"text-align: right;\">\n",
       "      <th></th>\n",
       "      <th>volume</th>\n",
       "      <th>close</th>\n",
       "      <th>open</th>\n",
       "      <th>low</th>\n",
       "      <th>high</th>\n",
       "    </tr>\n",
       "    <tr>\n",
       "      <th>Data</th>\n",
       "      <th></th>\n",
       "      <th></th>\n",
       "      <th></th>\n",
       "      <th></th>\n",
       "      <th></th>\n",
       "    </tr>\n",
       "  </thead>\n",
       "  <tbody>\n",
       "    <tr>\n",
       "      <th>2018-10-02</th>\n",
       "      <td>2.840932e+09</td>\n",
       "      <td>22.82</td>\n",
       "      <td>22.00</td>\n",
       "      <td>21.90</td>\n",
       "      <td>22.82</td>\n",
       "    </tr>\n",
       "    <tr>\n",
       "      <th>2018-10-03</th>\n",
       "      <td>3.645505e+09</td>\n",
       "      <td>23.79</td>\n",
       "      <td>25.25</td>\n",
       "      <td>23.46</td>\n",
       "      <td>25.42</td>\n",
       "    </tr>\n",
       "  </tbody>\n",
       "</table>\n",
       "</div>"
      ],
      "text/plain": [
       "                  volume  close   open    low   high\n",
       "Data                                                \n",
       "2018-10-02  2.840932e+09  22.82  22.00  21.90  22.82\n",
       "2018-10-03  3.645505e+09  23.79  25.25  23.46  25.42"
      ]
     },
     "execution_count": 27,
     "metadata": {},
     "output_type": "execute_result"
    }
   ],
   "source": [
    "diretorio=os.getcwd()\n",
    "print(diretorio)\n",
    "df=pd.read_csv(diretorio+\"/\"+\"petr4.csv\",sep=\",\",index_col=\"Data\")   #\n",
    "df.tail(2)"
   ]
  },
  {
   "cell_type": "markdown",
   "metadata": {},
   "source": [
    "## functions"
   ]
  },
  {
   "cell_type": "code",
   "execution_count": 82,
   "metadata": {
    "collapsed": true
   },
   "outputs": [],
   "source": [
    "# draw graphs\n",
    "def tsb(data,n_period=120):\n",
    "    data2=data[-n_period:]\n",
    "    plt.style.use('fivethirtyeight')\n",
    "    fig=plt.figure(figsize=(18,5))\n",
    "    top = plt.subplot2grid((9,1), (0, 0), rowspan=9)\n",
    "    x_axis = data2.index.get_level_values(0)\n",
    "    ema1,=top.plot(x_axis, data2['close'],color='black', lw=2)\n",
    "    top.axes.get_xaxis().set_visible(False)\n",
    "    # signals turning points\n",
    "    v_pr=data2.loc[~np.isnan(data2['arg_max1'])]\n",
    "    c_pr=data2.loc[~np.isnan(data2['arg_min1'])]\n",
    "    top.plot(v_pr.index, data2.loc[v_pr.index]['close'], 'v', markersize=10, color='r')\n",
    "    top.plot(c_pr.index, data2.loc[c_pr.index]['close'], '^', markersize=10, color='b')\n",
    "    for dates in [0,int(n_period/2),int(n_period*.90)]:\n",
    "        top.axvline(x=x_axis[dates],color='blue', linestyle='--',linewidth=1)\n",
    "        top.text(x_axis[dates],data2['close'].min()*0.85,x_axis[dates])\n",
    "    return plt.show()"
   ]
  },
  {
   "cell_type": "markdown",
   "metadata": {},
   "source": [
    "## 1. Peak Finding"
   ]
  },
  {
   "cell_type": "code",
   "execution_count": 83,
   "metadata": {
    "collapsed": true
   },
   "outputs": [],
   "source": [
    "def tp(data,column='close'):\n",
    "    ## argrelmin\n",
    "    data['arg_min1'] = data.iloc[argrelmin(data[column].values,order=1)[0]]['close']\n",
    "    data['arg_min3'] = data.iloc[argrelmin(data[column].values,order=3)[0]]['close']\n",
    "    ## argrelmax\n",
    "    data['arg_max1'] = data.iloc[argrelmax(data[column].values,order=1)[0]]['close']\n",
    "    data['arg_max3'] = data.iloc[argrelmax(data[column].values,order=3)[0]]['close']\n",
    "    return data"
   ]
  },
  {
   "cell_type": "code",
   "execution_count": 84,
   "metadata": {
    "collapsed": true
   },
   "outputs": [],
   "source": [
    "df=tp(df)"
   ]
  },
  {
   "cell_type": "code",
   "execution_count": 85,
   "metadata": {},
   "outputs": [
    {
     "data": {
      "image/png": "[encoded data removed]",
      "text/plain": [
       "<matplotlib.figure.Figure at 0x1c1716f6d8>"
      ]
     },
     "metadata": {},
     "output_type": "display_data"
    }
   ],
   "source": [
    "tsb(df)"
   ]
  },
  {
   "cell_type": "markdown",
   "metadata": {},
   "source": [
    "## 2. Pattern Recognition"
   ]
  },
  {
   "cell_type": "code",
   "execution_count": 91,
   "metadata": {},
   "outputs": [
    {
     "data": {
      "text/plain": [
       "[<matplotlib.lines.Line2D at 0x1c170cd278>]"
      ]
     },
     "execution_count": 91,
     "metadata": {},
     "output_type": "execute_result"
    },
    {
     "data": {
      "image/png": "[encoded data removed]",
      "text/plain": [
       "<matplotlib.figure.Figure at 0x1c170e0f28>"
      ]
     },
     "metadata": {},
     "output_type": "display_data"
    }
   ],
   "source": [
    "c1 = ta.CDL2CROWS(df.open, df.high, df.low, df.close)\n",
    "plt.plot(c1)"
   ]
  },
  {
   "cell_type": "code",
   "execution_count": 93,
   "metadata": {},
   "outputs": [
    {
     "data": {
      "text/plain": [
       "[<matplotlib.lines.Line2D at 0x1c1fb5fa90>]"
      ]
     },
     "execution_count": 93,
     "metadata": {},
     "output_type": "execute_result"
    },
    {
     "data": {
      "image/png": "[encoded data removed]",
      "text/plain": [
       "<matplotlib.figure.Figure at 0x1c1fb6cdd8>"
      ]
     },
     "metadata": {},
     "output_type": "display_data"
    }
   ],
   "source": [
    "c2 = ta.CDL3BLACKCROWS(df.open, df.high, df.low, df.close)\n",
    "plt.plot(c2)"
   ]
  },
  {
   "cell_type": "code",
   "execution_count": 94,
   "metadata": {},
   "outputs": [
    {
     "data": {
      "text/plain": [
       "[<matplotlib.lines.Line2D at 0x1c23e10ef0>]"
      ]
     },
     "execution_count": 94,
     "metadata": {},
     "output_type": "execute_result"
    },
    {
     "data": {
      "image/png": "[encoded data removed]",
      "text/plain": [
       "<matplotlib.figure.Figure at 0x1c1aac0eb8>"
      ]
     },
     "metadata": {},
     "output_type": "display_data"
    }
   ],
   "source": [
    "c3 = ta.CDL3INSIDE(df.open, df.high, df.low, df.close)\n",
    "plt.plot(c3)"
   ]
  },
  {
   "cell_type": "code",
   "execution_count": 95,
   "metadata": {},
   "outputs": [
    {
     "data": {
      "text/plain": [
       "[<matplotlib.lines.Line2D at 0x1c29853c50>]"
      ]
     },
     "execution_count": 95,
     "metadata": {},
     "output_type": "execute_result"
    },
    {
     "data": {
      "image/png": "[encoded data removed]",
      "text/plain": [
       "<matplotlib.figure.Figure at 0x1c26435898>"
      ]
     },
     "metadata": {},
     "output_type": "display_data"
    }
   ],
   "source": [
    "c4 = ta.CDL3LINESTRIKE(df.open, df.high, df.low, df.close)\n",
    "plt.plot(c4)"
   ]
  },
  {
   "cell_type": "code",
   "execution_count": 96,
   "metadata": {},
   "outputs": [
    {
     "data": {
      "text/plain": [
       "[<matplotlib.lines.Line2D at 0x1c2678ff60>]"
      ]
     },
     "execution_count": 96,
     "metadata": {},
     "output_type": "execute_result"
    },
    {
     "data": {
      "image/png": "[encoded data removed]",
      "text/plain": [
       "<matplotlib.figure.Figure at 0x1c21d48278>"
      ]
     },
     "metadata": {},
     "output_type": "display_data"
    }
   ],
   "source": [
    "c5 = ta.CDL3OUTSIDE(df.open, df.high, df.low, df.close)\n",
    "plt.plot(c5)"
   ]
  },
  {
   "cell_type": "code",
   "execution_count": 4,
   "metadata": {},
   "outputs": [
    {
     "data": {
      "text/plain": [
       "[<matplotlib.lines.Line2D at 0x1c0f82e828>]"
      ]
     },
     "execution_count": 4,
     "metadata": {},
     "output_type": "execute_result"
    },
    {
     "data": {
      "image/png": "[encoded data removed]",
      "text/plain": [
       "<matplotlib.figure.Figure at 0x1c0f76c8d0>"
      ]
     },
     "metadata": {},
     "output_type": "display_data"
    }
   ],
   "source": [
    "c6 = ta.CDL3STARSINSOUTH(df.open, df.high, df.low, df.close)\n",
    "plt.plot(c6)"
   ]
  },
  {
   "cell_type": "code",
   "execution_count": 5,
   "metadata": {},
   "outputs": [
    {
     "data": {
      "text/plain": [
       "[<matplotlib.lines.Line2D at 0x1c14f46c50>]"
      ]
     },
     "execution_count": 5,
     "metadata": {},
     "output_type": "execute_result"
    },
    {
     "data": {
      "image/png": "[encoded data removed]",
      "text/plain": [
       "<matplotlib.figure.Figure at 0x1c1351c550>"
      ]
     },
     "metadata": {},
     "output_type": "display_data"
    }
   ],
   "source": [
    "c7 = ta.CDL3WHITESOLDIERS(df.open, df.high, df.low, df.close)\n",
    "plt.plot(c7)"
   ]
  },
  {
   "cell_type": "code",
   "execution_count": 6,
   "metadata": {},
   "outputs": [
    {
     "data": {
      "text/plain": [
       "[<matplotlib.lines.Line2D at 0x1c118ec6d8>]"
      ]
     },
     "execution_count": 6,
     "metadata": {},
     "output_type": "execute_result"
    },
    {
     "data": {
      "image/png": "[encoded data removed]",
      "text/plain": [
       "<matplotlib.figure.Figure at 0x1c13504ef0>"
      ]
     },
     "metadata": {},
     "output_type": "display_data"
    }
   ],
   "source": [
    "c8 = ta.CDLABANDONEDBABY(df.open, df.high, df.low, df.close, penetration=0)\n",
    "plt.plot(c8)"
   ]
  },
  {
   "cell_type": "code",
   "execution_count": 7,
   "metadata": {},
   "outputs": [
    {
     "data": {
      "text/plain": [
       "[<matplotlib.lines.Line2D at 0x1c1fce3cc0>]"
      ]
     },
     "execution_count": 7,
     "metadata": {},
     "output_type": "execute_result"
    },
    {
     "data": {
      "image/png": "[encoded data removed]",
      "text/plain": [
       "<matplotlib.figure.Figure at 0x1c1079d588>"
      ]
     },
     "metadata": {},
     "output_type": "display_data"
    }
   ],
   "source": [
    "c9 = ta.CDLADVANCEBLOCK(df.open, df.high, df.low, df.close)\n",
    "plt.plot(c9)"
   ]
  },
  {
   "cell_type": "code",
   "execution_count": 17,
   "metadata": {},
   "outputs": [
    {
     "data": {
      "text/plain": [
       "[<matplotlib.lines.Line2D at 0x1c24f440f0>]"
      ]
     },
     "execution_count": 17,
     "metadata": {},
     "output_type": "execute_result"
    },
    {
     "data": {
      "image/png": "[encoded data removed]",
      "text/plain": [
       "<matplotlib.figure.Figure at 0x1c24f31630>"
      ]
     },
     "metadata": {},
     "output_type": "display_data"
    }
   ],
   "source": [
    "c10 = ta.CDLBELTHOLD(df.open, df.high, df.low, df.close)\n",
    "plt.plot(c10)"
   ]
  },
  {
   "cell_type": "code",
   "execution_count": 19,
   "metadata": {},
   "outputs": [
    {
     "data": {
      "text/plain": [
       "[<matplotlib.lines.Line2D at 0x1c2a518828>]"
      ]
     },
     "execution_count": 19,
     "metadata": {},
     "output_type": "execute_result"
    },
    {
     "data": {
      "image/png": "[encoded data removed]",
      "text/plain": [
       "<matplotlib.figure.Figure at 0x1c27669ac8>"
      ]
     },
     "metadata": {},
     "output_type": "display_data"
    }
   ],
   "source": [
    "c11 = ta.CDLBREAKAWAY(df.open, df.high, df.low, df.close)\n",
    "plt.plot(c11)"
   ]
  },
  {
   "cell_type": "code",
   "execution_count": 21,
   "metadata": {
    "collapsed": true
   },
   "outputs": [],
   "source": [
    "def candle(df):\n",
    "    df['c1'] = ta.CDL2CROWS(df.open, df.high, df.low, df.close)\n",
    "    df['c2'] = ta.CDL3BLACKCROWS(df.open, df.high, df.low, df.close)\n",
    "    df['c3'] = ta.CDL3INSIDE(df.open, df.high, df.low, df.close)\n",
    "    df['c4'] = ta.CDL3LINESTRIKE(df.open, df.high, df.low, df.close)\n",
    "    df['c5'] = ta.CDL3OUTSIDE(df.open, df.high, df.low, df.close)\n",
    "    df['c6'] = ta.CDL3STARSINSOUTH(df.open, df.high, df.low, df.close)\n",
    "    df['c7'] = ta.CDL3WHITESOLDIERS(df.open, df.high, df.low, df.close)\n",
    "    df['c8'] = ta.CDLABANDONEDBABY(df.open, df.high, df.low, df.close, penetration=0)\n",
    "    df['c9'] = ta.CDLADVANCEBLOCK(df.open, df.high, df.low, df.close)\n",
    "    df['c10'] = ta.CDLBELTHOLD(df.open, df.high, df.low, df.close)\n",
    "    df['c11'] = ta.CDLBREAKAWAY(df.open, df.high, df.low, df.close)\n",
    "    return df"
   ]
  },
  {
   "cell_type": "code",
   "execution_count": 22,
   "metadata": {
    "collapsed": true
   },
   "outputs": [],
   "source": [
    "# y variable\n",
    "from sklearn.preprocessing import StandardScaler, QuantileTransformer\n",
    "scaler2=QuantileTransformer(output_distribution='uniform')\n",
    "def var_y(df,train=0.8):\n",
    "    df[\"y\"]=np.where(df[\"close\"].shift(-1)>df[\"close\"],1,-1)\n",
    "    x=df.iloc[:,:-1]\n",
    "    y=pd.DataFrame(df.iloc[:,-1])\n",
    "    # train and test\n",
    "    split = int(len(df)*train)\n",
    "    x_train, x_test, y_train, y_test = x[:split],x[split:],y[:split],y[split:]\n",
    "    # scaling\n",
    "    x_train=scaler2.fit_transform(x_train)\n",
    "    x_test=scaler2.fit_transform(x_test)\n",
    "    return df,x,y, x_train, x_test, y_train, y_test"
   ]
  },
  {
   "cell_type": "code",
   "execution_count": 28,
   "metadata": {},
   "outputs": [],
   "source": [
    "df=candle(df)\n",
    "petr4,x_petr4,y_petr4, x_train_petr4, x_test_petr4, y_train_petr4, y_test_petr4=var_y(df)"
   ]
  },
  {
   "cell_type": "code",
   "execution_count": 33,
   "metadata": {},
   "outputs": [
    {
     "name": "stderr",
     "output_type": "stream",
     "text": [
      "/Users/igoracmorais/anaconda3/lib/python3.6/site-packages/h5py/__init__.py:34: FutureWarning: Conversion of the second argument of issubdtype from `float` to `np.floating` is deprecated. In future, it will be treated as `np.float64 == np.dtype(float).type`.\n",
      "  from ._conv import register_converters as _register_converters\n",
      "Using TensorFlow backend.\n"
     ]
    },
    {
     "name": "stdout",
     "output_type": "stream",
     "text": [
      "Epoch 1/200\n",
      " - 1s - loss: 1.0099 - acc: 0.0132\n",
      "Epoch 2/200\n",
      " - 0s - loss: 0.9971 - acc: 0.0000e+00\n",
      "Epoch 3/200\n",
      " - 0s - loss: 0.9972 - acc: 0.0000e+00\n",
      "Epoch 4/200\n",
      " - 0s - loss: 0.9971 - acc: 0.0000e+00\n",
      "Epoch 5/200\n",
      " - 0s - loss: 0.9972 - acc: 0.0000e+00\n",
      "Epoch 6/200\n",
      " - 0s - loss: 0.9972 - acc: 0.0000e+00\n",
      "Epoch 7/200\n",
      " - 0s - loss: 0.9972 - acc: 0.0000e+00\n",
      "Epoch 8/200\n",
      " - 0s - loss: 0.9972 - acc: 0.0000e+00\n",
      "Epoch 9/200\n",
      " - 0s - loss: 0.9975 - acc: 0.0000e+00\n",
      "Epoch 10/200\n",
      " - 0s - loss: 0.9972 - acc: 0.0000e+00\n",
      "Epoch 11/200\n",
      " - 0s - loss: 0.9972 - acc: 0.0000e+00\n",
      "Epoch 12/200\n",
      " - 0s - loss: 0.9972 - acc: 0.0000e+00\n",
      "Epoch 13/200\n",
      " - 0s - loss: 0.9972 - acc: 0.0000e+00\n",
      "Epoch 14/200\n",
      " - 0s - loss: 0.9973 - acc: 0.0000e+00\n",
      "Epoch 15/200\n",
      " - 0s - loss: 0.9971 - acc: 0.0000e+00\n",
      "Epoch 16/200\n",
      " - 0s - loss: 0.9971 - acc: 0.0000e+00\n",
      "Epoch 17/200\n",
      " - 0s - loss: 0.9973 - acc: 0.0000e+00\n",
      "Epoch 18/200\n",
      " - 0s - loss: 0.9972 - acc: 0.0000e+00\n",
      "Epoch 19/200\n",
      " - 0s - loss: 0.9972 - acc: 0.0000e+00\n",
      "Epoch 20/200\n",
      " - 0s - loss: 0.9973 - acc: 0.0000e+00\n",
      "Epoch 21/200\n",
      " - 0s - loss: 0.9972 - acc: 0.0000e+00\n",
      "Epoch 22/200\n",
      " - 0s - loss: 0.9973 - acc: 0.0000e+00\n",
      "Epoch 23/200\n",
      " - 0s - loss: 0.9974 - acc: 0.0000e+00\n",
      "Epoch 24/200\n",
      " - 0s - loss: 0.9972 - acc: 0.0000e+00\n",
      "Epoch 25/200\n",
      " - 0s - loss: 0.9972 - acc: 0.0000e+00\n",
      "Epoch 26/200\n",
      " - 0s - loss: 0.9976 - acc: 0.0000e+00\n",
      "Epoch 27/200\n",
      " - 0s - loss: 0.9972 - acc: 0.0000e+00\n",
      "Epoch 28/200\n",
      " - 0s - loss: 0.9978 - acc: 0.0000e+00\n",
      "Epoch 29/200\n",
      " - 0s - loss: 0.9973 - acc: 0.0000e+00\n",
      "Epoch 30/200\n",
      " - 0s - loss: 0.9972 - acc: 0.0000e+00\n",
      "Epoch 31/200\n",
      " - 0s - loss: 0.9973 - acc: 0.0000e+00\n",
      "Epoch 32/200\n",
      " - 0s - loss: 0.9973 - acc: 0.0000e+00\n",
      "Epoch 33/200\n",
      " - 0s - loss: 0.9973 - acc: 0.0000e+00\n",
      "Epoch 34/200\n",
      " - 0s - loss: 0.9974 - acc: 0.0000e+00\n",
      "Epoch 35/200\n",
      " - 0s - loss: 0.9974 - acc: 0.0000e+00\n",
      "Epoch 36/200\n",
      " - 0s - loss: 0.9975 - acc: 0.0000e+00\n",
      "Epoch 37/200\n",
      " - 0s - loss: 0.9972 - acc: 0.0000e+00\n",
      "Epoch 38/200\n",
      " - 0s - loss: 0.9974 - acc: 0.0000e+00\n",
      "Epoch 39/200\n",
      " - 0s - loss: 0.9972 - acc: 0.0000e+00\n",
      "Epoch 40/200\n",
      " - 0s - loss: 0.9974 - acc: 0.0000e+00\n",
      "Epoch 41/200\n",
      " - 0s - loss: 0.9974 - acc: 0.0000e+00\n",
      "Epoch 42/200\n",
      " - 0s - loss: 0.9972 - acc: 0.0000e+00\n",
      "Epoch 43/200\n",
      " - 0s - loss: 0.9972 - acc: 0.0000e+00\n",
      "Epoch 44/200\n",
      " - 0s - loss: 0.9973 - acc: 0.0000e+00\n",
      "Epoch 45/200\n",
      " - 0s - loss: 0.9974 - acc: 0.0000e+00\n",
      "Epoch 46/200\n",
      " - 0s - loss: 0.9973 - acc: 0.0000e+00\n",
      "Epoch 47/200\n",
      " - 0s - loss: 0.9973 - acc: 0.0000e+00\n",
      "Epoch 48/200\n",
      " - 0s - loss: 0.9973 - acc: 0.0000e+00\n",
      "Epoch 49/200\n",
      " - 0s - loss: 0.9972 - acc: 0.0000e+00\n",
      "Epoch 50/200\n",
      " - 0s - loss: 0.9972 - acc: 0.0000e+00\n",
      "Epoch 51/200\n",
      " - 0s - loss: 0.9972 - acc: 0.0000e+00\n",
      "Epoch 52/200\n",
      " - 0s - loss: 0.9973 - acc: 0.0000e+00\n",
      "Epoch 53/200\n",
      " - 0s - loss: 0.9974 - acc: 0.0000e+00\n",
      "Epoch 54/200\n",
      " - 0s - loss: 0.9973 - acc: 0.0000e+00\n",
      "Epoch 55/200\n",
      " - 0s - loss: 0.9974 - acc: 0.0000e+00\n",
      "Epoch 56/200\n",
      " - 0s - loss: 0.9974 - acc: 0.0000e+00\n",
      "Epoch 57/200\n",
      " - 0s - loss: 0.9973 - acc: 0.0000e+00\n",
      "Epoch 58/200\n",
      " - 0s - loss: 0.9972 - acc: 0.0000e+00\n",
      "Epoch 59/200\n",
      " - 0s - loss: 0.9973 - acc: 0.0000e+00\n",
      "Epoch 60/200\n",
      " - 0s - loss: 0.9975 - acc: 0.0000e+00\n",
      "Epoch 61/200\n",
      " - 0s - loss: 0.9972 - acc: 0.0000e+00\n",
      "Epoch 62/200\n",
      " - 0s - loss: 0.9973 - acc: 0.0000e+00\n",
      "Epoch 63/200\n",
      " - 0s - loss: 0.9973 - acc: 0.0000e+00\n",
      "Epoch 64/200\n",
      " - 0s - loss: 0.9975 - acc: 0.0000e+00\n",
      "Epoch 65/200\n",
      " - 0s - loss: 0.9972 - acc: 0.0000e+00\n",
      "Epoch 66/200\n",
      " - 0s - loss: 0.9972 - acc: 0.0000e+00\n",
      "Epoch 67/200\n",
      " - 0s - loss: 0.9972 - acc: 0.0000e+00\n",
      "Epoch 68/200\n",
      " - 0s - loss: 0.9973 - acc: 0.0000e+00\n",
      "Epoch 69/200\n",
      " - 0s - loss: 0.9972 - acc: 0.0000e+00\n",
      "Epoch 70/200\n",
      " - 0s - loss: 0.9973 - acc: 0.0000e+00\n",
      "Epoch 71/200\n",
      " - 0s - loss: 0.9972 - acc: 0.0000e+00\n",
      "Epoch 72/200\n",
      " - 0s - loss: 0.9972 - acc: 0.0000e+00\n",
      "Epoch 73/200\n",
      " - 0s - loss: 0.9973 - acc: 0.0000e+00\n",
      "Epoch 74/200\n",
      " - 0s - loss: 0.9972 - acc: 0.0000e+00\n",
      "Epoch 75/200\n",
      " - 0s - loss: 0.9973 - acc: 0.0000e+00\n",
      "Epoch 76/200\n",
      " - 0s - loss: 0.9972 - acc: 0.0000e+00\n",
      "Epoch 77/200\n",
      " - 0s - loss: 0.9975 - acc: 0.0000e+00\n",
      "Epoch 78/200\n",
      " - 0s - loss: 0.9972 - acc: 0.0000e+00\n",
      "Epoch 79/200\n",
      " - 0s - loss: 0.9974 - acc: 0.0000e+00\n",
      "Epoch 80/200\n",
      " - 0s - loss: 0.9973 - acc: 0.0000e+00\n",
      "Epoch 81/200\n",
      " - 0s - loss: 0.9972 - acc: 0.0000e+00\n",
      "Epoch 82/200\n",
      " - 0s - loss: 0.9972 - acc: 0.0000e+00\n",
      "Epoch 83/200\n",
      " - 0s - loss: 0.9972 - acc: 0.0000e+00\n",
      "Epoch 84/200\n",
      " - 0s - loss: 0.9973 - acc: 0.0000e+00\n",
      "Epoch 85/200\n",
      " - 0s - loss: 0.9972 - acc: 0.0000e+00\n",
      "Epoch 86/200\n",
      " - 0s - loss: 0.9971 - acc: 0.0000e+00\n",
      "Epoch 87/200\n",
      " - 0s - loss: 0.9974 - acc: 0.0000e+00\n",
      "Epoch 88/200\n",
      " - 0s - loss: 0.9973 - acc: 0.0000e+00\n",
      "Epoch 89/200\n",
      " - 0s - loss: 0.9972 - acc: 0.0000e+00\n",
      "Epoch 90/200\n",
      " - 0s - loss: 0.9975 - acc: 0.0000e+00\n",
      "Epoch 91/200\n",
      " - 0s - loss: 0.9973 - acc: 0.0000e+00\n",
      "Epoch 92/200\n",
      " - 0s - loss: 0.9975 - acc: 0.0000e+00\n",
      "Epoch 93/200\n",
      " - 0s - loss: 0.9973 - acc: 0.0000e+00\n",
      "Epoch 94/200\n",
      " - 0s - loss: 0.9974 - acc: 0.0000e+00\n",
      "Epoch 95/200\n",
      " - 0s - loss: 0.9972 - acc: 0.0000e+00\n",
      "Epoch 96/200\n",
      " - 0s - loss: 0.9971 - acc: 0.0000e+00\n",
      "Epoch 97/200\n",
      " - 0s - loss: 0.9973 - acc: 0.0000e+00\n",
      "Epoch 98/200\n",
      " - 0s - loss: 0.9973 - acc: 0.0000e+00\n",
      "Epoch 99/200\n",
      " - 0s - loss: 0.9974 - acc: 0.0000e+00\n",
      "Epoch 100/200\n",
      " - 0s - loss: 0.9972 - acc: 0.0000e+00\n",
      "Epoch 101/200\n",
      " - 0s - loss: 0.9973 - acc: 0.0000e+00\n",
      "Epoch 102/200\n",
      " - 0s - loss: 0.9972 - acc: 0.0000e+00\n",
      "Epoch 103/200\n",
      " - 0s - loss: 0.9974 - acc: 0.0000e+00\n",
      "Epoch 104/200\n",
      " - 0s - loss: 0.9973 - acc: 0.0000e+00\n",
      "Epoch 105/200\n",
      " - 0s - loss: 0.9972 - acc: 0.0000e+00\n",
      "Epoch 106/200\n",
      " - 0s - loss: 0.9973 - acc: 0.0000e+00\n",
      "Epoch 107/200\n",
      " - 0s - loss: 0.9973 - acc: 0.0000e+00\n",
      "Epoch 108/200\n",
      " - 0s - loss: 0.9973 - acc: 0.0000e+00\n",
      "Epoch 109/200\n",
      " - 0s - loss: 0.9972 - acc: 0.0000e+00\n",
      "Epoch 110/200\n",
      " - 0s - loss: 0.9972 - acc: 0.0000e+00\n",
      "Epoch 111/200\n",
      " - 0s - loss: 0.9972 - acc: 0.0000e+00\n",
      "Epoch 112/200\n",
      " - 0s - loss: 0.9974 - acc: 0.0000e+00\n",
      "Epoch 113/200\n",
      " - 0s - loss: 0.9973 - acc: 0.0000e+00\n",
      "Epoch 114/200\n",
      " - 0s - loss: 0.9975 - acc: 0.0000e+00\n",
      "Epoch 115/200\n",
      " - 0s - loss: 0.9972 - acc: 0.0000e+00\n",
      "Epoch 116/200\n",
      " - 0s - loss: 0.9973 - acc: 0.0000e+00\n",
      "Epoch 117/200\n",
      " - 0s - loss: 0.9973 - acc: 0.0000e+00\n",
      "Epoch 118/200\n",
      " - 0s - loss: 0.9973 - acc: 0.0000e+00\n",
      "Epoch 119/200\n",
      " - 0s - loss: 0.9972 - acc: 0.0000e+00\n",
      "Epoch 120/200\n",
      " - 0s - loss: 0.9973 - acc: 0.0000e+00\n",
      "Epoch 121/200\n",
      " - 0s - loss: 0.9974 - acc: 0.0000e+00\n",
      "Epoch 122/200\n",
      " - 0s - loss: 0.9973 - acc: 0.0000e+00\n",
      "Epoch 123/200\n",
      " - 0s - loss: 0.9972 - acc: 0.0000e+00\n",
      "Epoch 124/200\n",
      " - 0s - loss: 0.9972 - acc: 0.0000e+00\n",
      "Epoch 125/200\n",
      " - 0s - loss: 0.9972 - acc: 0.0000e+00\n",
      "Epoch 126/200\n",
      " - 0s - loss: 0.9974 - acc: 0.0000e+00\n",
      "Epoch 127/200\n",
      " - 0s - loss: 0.9972 - acc: 0.0000e+00\n",
      "Epoch 128/200\n",
      " - 0s - loss: 0.9973 - acc: 0.0000e+00\n",
      "Epoch 129/200\n",
      " - 0s - loss: 0.9973 - acc: 0.0000e+00\n",
      "Epoch 130/200\n",
      " - 0s - loss: 0.9971 - acc: 0.0000e+00\n",
      "Epoch 131/200\n",
      " - 0s - loss: 0.9972 - acc: 0.0000e+00\n",
      "Epoch 132/200\n",
      " - 0s - loss: 0.9974 - acc: 0.0000e+00\n",
      "Epoch 133/200\n",
      " - 0s - loss: 0.9972 - acc: 0.0000e+00\n",
      "Epoch 134/200\n",
      " - 0s - loss: 0.9972 - acc: 0.0000e+00\n",
      "Epoch 135/200\n",
      " - 0s - loss: 0.9975 - acc: 0.0000e+00\n",
      "Epoch 136/200\n",
      " - 0s - loss: 0.9972 - acc: 0.0000e+00\n",
      "Epoch 137/200\n",
      " - 0s - loss: 0.9974 - acc: 0.0000e+00\n",
      "Epoch 138/200\n",
      " - 0s - loss: 0.9973 - acc: 0.0000e+00\n",
      "Epoch 139/200\n",
      " - 0s - loss: 0.9975 - acc: 0.0000e+00\n",
      "Epoch 140/200\n",
      " - 0s - loss: 0.9976 - acc: 0.0000e+00\n",
      "Epoch 141/200\n",
      " - 0s - loss: 0.9973 - acc: 0.0000e+00\n",
      "Epoch 142/200\n",
      " - 0s - loss: 0.9971 - acc: 0.0000e+00\n",
      "Epoch 143/200\n",
      " - 0s - loss: 0.9973 - acc: 0.0000e+00\n",
      "Epoch 144/200\n",
      " - 0s - loss: 0.9972 - acc: 0.0000e+00\n",
      "Epoch 145/200\n",
      " - 0s - loss: 0.9973 - acc: 0.0000e+00\n",
      "Epoch 146/200\n",
      " - 0s - loss: 0.9973 - acc: 0.0000e+00\n",
      "Epoch 147/200\n",
      " - 0s - loss: 0.9974 - acc: 0.0000e+00\n",
      "Epoch 148/200\n",
      " - 0s - loss: 0.9973 - acc: 0.0000e+00\n",
      "Epoch 149/200\n",
      " - 0s - loss: 0.9972 - acc: 0.0000e+00\n",
      "Epoch 150/200\n",
      " - 0s - loss: 0.9973 - acc: 0.0000e+00\n",
      "Epoch 151/200\n",
      " - 0s - loss: 0.9974 - acc: 0.0000e+00\n",
      "Epoch 152/200\n",
      " - 0s - loss: 0.9975 - acc: 0.0000e+00\n",
      "Epoch 153/200\n",
      " - 0s - loss: 0.9972 - acc: 0.0000e+00\n",
      "Epoch 154/200\n",
      " - 0s - loss: 0.9974 - acc: 0.0000e+00\n",
      "Epoch 155/200\n",
      " - 0s - loss: 0.9973 - acc: 0.0000e+00\n",
      "Epoch 156/200\n",
      " - 0s - loss: 0.9975 - acc: 0.0000e+00\n",
      "Epoch 157/200\n",
      " - 0s - loss: 0.9971 - acc: 0.0000e+00\n"
     ]
    },
    {
     "name": "stdout",
     "output_type": "stream",
     "text": [
      "Epoch 158/200\n",
      " - 0s - loss: 0.9972 - acc: 0.0000e+00\n",
      "Epoch 159/200\n",
      " - 0s - loss: 0.9973 - acc: 0.0000e+00\n",
      "Epoch 160/200\n",
      " - 0s - loss: 0.9973 - acc: 0.0000e+00\n",
      "Epoch 161/200\n",
      " - 0s - loss: 0.9974 - acc: 0.0000e+00\n",
      "Epoch 162/200\n",
      " - 0s - loss: 0.9972 - acc: 0.0000e+00\n",
      "Epoch 163/200\n",
      " - 0s - loss: 0.9976 - acc: 0.0000e+00\n",
      "Epoch 164/200\n",
      " - 0s - loss: 0.9973 - acc: 0.0000e+00\n",
      "Epoch 165/200\n",
      " - 0s - loss: 0.9973 - acc: 0.0000e+00\n",
      "Epoch 166/200\n",
      " - 0s - loss: 0.9973 - acc: 0.0000e+00\n",
      "Epoch 167/200\n",
      " - 0s - loss: 0.9972 - acc: 0.0000e+00\n",
      "Epoch 168/200\n",
      " - 0s - loss: 0.9972 - acc: 0.0000e+00\n",
      "Epoch 169/200\n",
      " - 0s - loss: 0.9973 - acc: 0.0000e+00\n",
      "Epoch 170/200\n",
      " - 0s - loss: 0.9974 - acc: 0.0000e+00\n",
      "Epoch 171/200\n",
      " - 0s - loss: 0.9972 - acc: 0.0000e+00\n",
      "Epoch 172/200\n",
      " - 0s - loss: 0.9974 - acc: 0.0000e+00\n",
      "Epoch 173/200\n",
      " - 0s - loss: 0.9974 - acc: 0.0000e+00\n",
      "Epoch 174/200\n",
      " - 0s - loss: 0.9974 - acc: 0.0000e+00\n",
      "Epoch 175/200\n",
      " - 0s - loss: 0.9974 - acc: 0.0000e+00\n",
      "Epoch 176/200\n",
      " - 0s - loss: 0.9974 - acc: 0.0000e+00\n",
      "Epoch 177/200\n",
      " - 0s - loss: 0.9972 - acc: 0.0000e+00\n",
      "Epoch 178/200\n",
      " - 0s - loss: 0.9972 - acc: 0.0000e+00\n",
      "Epoch 179/200\n",
      " - 0s - loss: 0.9973 - acc: 0.0000e+00\n",
      "Epoch 180/200\n",
      " - 0s - loss: 0.9972 - acc: 0.0000e+00\n",
      "Epoch 181/200\n",
      " - 0s - loss: 0.9973 - acc: 0.0000e+00\n",
      "Epoch 182/200\n",
      " - 0s - loss: 0.9971 - acc: 0.0000e+00\n",
      "Epoch 183/200\n",
      " - 0s - loss: 0.9973 - acc: 0.0000e+00\n",
      "Epoch 184/200\n",
      " - 0s - loss: 0.9979 - acc: 0.0000e+00\n",
      "Epoch 185/200\n",
      " - 0s - loss: 0.9971 - acc: 0.0000e+00\n",
      "Epoch 186/200\n",
      " - 0s - loss: 0.9975 - acc: 0.0000e+00\n",
      "Epoch 187/200\n",
      " - 0s - loss: 0.9972 - acc: 0.0000e+00\n",
      "Epoch 188/200\n",
      " - 0s - loss: 0.9973 - acc: 0.0000e+00\n",
      "Epoch 189/200\n",
      " - 0s - loss: 0.9973 - acc: 0.0000e+00\n",
      "Epoch 190/200\n",
      " - 0s - loss: 0.9972 - acc: 0.0000e+00\n",
      "Epoch 191/200\n",
      " - 0s - loss: 0.9972 - acc: 0.0000e+00\n",
      "Epoch 192/200\n",
      " - 0s - loss: 0.9972 - acc: 0.0000e+00\n",
      "Epoch 193/200\n",
      " - 0s - loss: 0.9973 - acc: 0.0000e+00\n",
      "Epoch 194/200\n",
      " - 0s - loss: 0.9972 - acc: 0.0000e+00\n",
      "Epoch 195/200\n",
      " - 0s - loss: 0.9974 - acc: 0.0000e+00\n",
      "Epoch 196/200\n",
      " - 0s - loss: 0.9973 - acc: 0.0000e+00\n",
      "Epoch 197/200\n",
      " - 0s - loss: 0.9974 - acc: 0.0000e+00\n",
      "Epoch 198/200\n",
      " - 0s - loss: 0.9973 - acc: 0.0000e+00\n",
      "Epoch 199/200\n",
      " - 0s - loss: 0.9973 - acc: 0.0000e+00\n",
      "Epoch 200/200\n",
      " - 0s - loss: 0.9972 - acc: 0.0000e+00\n"
     ]
    }
   ],
   "source": [
    "from keras.models import Sequential\n",
    "from keras.layers import Dense, Dropout\n",
    "classifier1=Sequential()\n",
    "classifier1.add(Dense(units=512,kernel_initializer=\"uniform\",activation=\"sigmoid\",input_dim=x_petr4.shape[1]))\n",
    "classifier1.add(Dense(units=256,kernel_initializer=\"uniform\",activation=\"sigmoid\"))\n",
    "classifier1.add(Dense(units=128,kernel_initializer=\"uniform\",activation=\"sigmoid\"))\n",
    "classifier1.add(Dense(units=1,kernel_initializer=\"uniform\",activation=\"sigmoid\"))   #output layer\n",
    "classifier1.compile(optimizer=\"adam\",loss=\"mean_squared_error\",metrics=[\"accuracy\"])\n",
    "m1=classifier1.fit(x_train_petr4,y_train_petr4,batch_size=80,epochs=200,verbose=2)"
   ]
  },
  {
   "cell_type": "code",
   "execution_count": 34,
   "metadata": {
    "collapsed": true
   },
   "outputs": [],
   "source": [
    "def forecasting(df,x_test,prob=0.6,classifier_name=\"classifier\"):\n",
    "    df=df[-x_test.shape[0]:]\n",
    "    df[\"y_pred\"]=classifier_name.predict(x_test)\n",
    "    df[\"y_pred2\"]=df[\"y_pred\"]>prob\n",
    "    #\n",
    "    df[\"tomorrow_ret\"]=0\n",
    "    df[\"tomorrow_ret\"]=np.log(df['close']/df[\"close\"].shift(1))\n",
    "    df[\"tomorrow_ret\"]=df[\"tomorrow_ret\"].shift(-1)\n",
    "    #\n",
    "    # 1. escolhemos os resultados == True e sem short\n",
    "    df[\"strategy_ret\"]=0.\n",
    "    df[\"strategy_ret\"]=np.where(df[\"y_pred2\"]==True,df[\"tomorrow_ret\"],0)\n",
    "    # 2. escolhemos as P(y_pred)>x e com short\n",
    "    df[\"strategy_ret2\"]=0.\n",
    "    df[\"strategy_ret2\"]=np.where(df[\"y_pred\"]>prob,df[\"tomorrow_ret\"],-df[\"tomorrow_ret\"])\n",
    "    return df"
   ]
  },
  {
   "cell_type": "code",
   "execution_count": 35,
   "metadata": {},
   "outputs": [
    {
     "name": "stderr",
     "output_type": "stream",
     "text": [
      "/Users/igoracmorais/anaconda3/lib/python3.6/site-packages/ipykernel_launcher.py:3: SettingWithCopyWarning: \n",
      "A value is trying to be set on a copy of a slice from a DataFrame.\n",
      "Try using .loc[row_indexer,col_indexer] = value instead\n",
      "\n",
      "See the caveats in the documentation: http://pandas.pydata.org/pandas-docs/stable/indexing.html#indexing-view-versus-copy\n",
      "  This is separate from the ipykernel package so we can avoid doing imports until\n",
      "/Users/igoracmorais/anaconda3/lib/python3.6/site-packages/ipykernel_launcher.py:4: SettingWithCopyWarning: \n",
      "A value is trying to be set on a copy of a slice from a DataFrame.\n",
      "Try using .loc[row_indexer,col_indexer] = value instead\n",
      "\n",
      "See the caveats in the documentation: http://pandas.pydata.org/pandas-docs/stable/indexing.html#indexing-view-versus-copy\n",
      "  after removing the cwd from sys.path.\n",
      "/Users/igoracmorais/anaconda3/lib/python3.6/site-packages/ipykernel_launcher.py:6: SettingWithCopyWarning: \n",
      "A value is trying to be set on a copy of a slice from a DataFrame.\n",
      "Try using .loc[row_indexer,col_indexer] = value instead\n",
      "\n",
      "See the caveats in the documentation: http://pandas.pydata.org/pandas-docs/stable/indexing.html#indexing-view-versus-copy\n",
      "  \n",
      "/Users/igoracmorais/anaconda3/lib/python3.6/site-packages/ipykernel_launcher.py:7: SettingWithCopyWarning: \n",
      "A value is trying to be set on a copy of a slice from a DataFrame.\n",
      "Try using .loc[row_indexer,col_indexer] = value instead\n",
      "\n",
      "See the caveats in the documentation: http://pandas.pydata.org/pandas-docs/stable/indexing.html#indexing-view-versus-copy\n",
      "  import sys\n",
      "/Users/igoracmorais/anaconda3/lib/python3.6/site-packages/ipykernel_launcher.py:8: SettingWithCopyWarning: \n",
      "A value is trying to be set on a copy of a slice from a DataFrame.\n",
      "Try using .loc[row_indexer,col_indexer] = value instead\n",
      "\n",
      "See the caveats in the documentation: http://pandas.pydata.org/pandas-docs/stable/indexing.html#indexing-view-versus-copy\n",
      "  \n",
      "/Users/igoracmorais/anaconda3/lib/python3.6/site-packages/ipykernel_launcher.py:11: SettingWithCopyWarning: \n",
      "A value is trying to be set on a copy of a slice from a DataFrame.\n",
      "Try using .loc[row_indexer,col_indexer] = value instead\n",
      "\n",
      "See the caveats in the documentation: http://pandas.pydata.org/pandas-docs/stable/indexing.html#indexing-view-versus-copy\n",
      "  # This is added back by InteractiveShellApp.init_path()\n",
      "/Users/igoracmorais/anaconda3/lib/python3.6/site-packages/ipykernel_launcher.py:12: SettingWithCopyWarning: \n",
      "A value is trying to be set on a copy of a slice from a DataFrame.\n",
      "Try using .loc[row_indexer,col_indexer] = value instead\n",
      "\n",
      "See the caveats in the documentation: http://pandas.pydata.org/pandas-docs/stable/indexing.html#indexing-view-versus-copy\n",
      "  if sys.path[0] == '':\n",
      "/Users/igoracmorais/anaconda3/lib/python3.6/site-packages/ipykernel_launcher.py:14: SettingWithCopyWarning: \n",
      "A value is trying to be set on a copy of a slice from a DataFrame.\n",
      "Try using .loc[row_indexer,col_indexer] = value instead\n",
      "\n",
      "See the caveats in the documentation: http://pandas.pydata.org/pandas-docs/stable/indexing.html#indexing-view-versus-copy\n",
      "  \n",
      "/Users/igoracmorais/anaconda3/lib/python3.6/site-packages/ipykernel_launcher.py:15: SettingWithCopyWarning: \n",
      "A value is trying to be set on a copy of a slice from a DataFrame.\n",
      "Try using .loc[row_indexer,col_indexer] = value instead\n",
      "\n",
      "See the caveats in the documentation: http://pandas.pydata.org/pandas-docs/stable/indexing.html#indexing-view-versus-copy\n",
      "  from ipykernel import kernelapp as app\n"
     ]
    }
   ],
   "source": [
    "petr4f=forecasting(petr4,x_test_petr4,0.65,classifier1)"
   ]
  },
  {
   "cell_type": "code",
   "execution_count": 40,
   "metadata": {},
   "outputs": [
    {
     "data": {
      "text/html": [
       "<div>\n",
       "<style>\n",
       "    .dataframe thead tr:only-child th {\n",
       "        text-align: right;\n",
       "    }\n",
       "\n",
       "    .dataframe thead th {\n",
       "        text-align: left;\n",
       "    }\n",
       "\n",
       "    .dataframe tbody tr th {\n",
       "        vertical-align: top;\n",
       "    }\n",
       "</style>\n",
       "<table border=\"1\" class=\"dataframe\">\n",
       "  <thead>\n",
       "    <tr style=\"text-align: right;\">\n",
       "      <th></th>\n",
       "      <th>volume</th>\n",
       "      <th>close</th>\n",
       "      <th>open</th>\n",
       "      <th>low</th>\n",
       "      <th>high</th>\n",
       "      <th>c1</th>\n",
       "      <th>c2</th>\n",
       "      <th>c3</th>\n",
       "      <th>c4</th>\n",
       "      <th>c5</th>\n",
       "      <th>...</th>\n",
       "      <th>c8</th>\n",
       "      <th>c9</th>\n",
       "      <th>c10</th>\n",
       "      <th>c11</th>\n",
       "      <th>y</th>\n",
       "      <th>y_pred</th>\n",
       "      <th>y_pred2</th>\n",
       "      <th>tomorrow_ret</th>\n",
       "      <th>strategy_ret</th>\n",
       "      <th>strategy_ret2</th>\n",
       "    </tr>\n",
       "    <tr>\n",
       "      <th>Data</th>\n",
       "      <th></th>\n",
       "      <th></th>\n",
       "      <th></th>\n",
       "      <th></th>\n",
       "      <th></th>\n",
       "      <th></th>\n",
       "      <th></th>\n",
       "      <th></th>\n",
       "      <th></th>\n",
       "      <th></th>\n",
       "      <th></th>\n",
       "      <th></th>\n",
       "      <th></th>\n",
       "      <th></th>\n",
       "      <th></th>\n",
       "      <th></th>\n",
       "      <th></th>\n",
       "      <th></th>\n",
       "      <th></th>\n",
       "      <th></th>\n",
       "      <th></th>\n",
       "    </tr>\n",
       "  </thead>\n",
       "  <tbody>\n",
       "    <tr>\n",
       "      <th>2018-09-27</th>\n",
       "      <td>2.178390e+09</td>\n",
       "      <td>21.46</td>\n",
       "      <td>20.50</td>\n",
       "      <td>20.47</td>\n",
       "      <td>21.46</td>\n",
       "      <td>0</td>\n",
       "      <td>0</td>\n",
       "      <td>0</td>\n",
       "      <td>0</td>\n",
       "      <td>0</td>\n",
       "      <td>...</td>\n",
       "      <td>0</td>\n",
       "      <td>0</td>\n",
       "      <td>100</td>\n",
       "      <td>0</td>\n",
       "      <td>-1</td>\n",
       "      <td>0.054001</td>\n",
       "      <td>False</td>\n",
       "      <td>-0.017392</td>\n",
       "      <td>0.0</td>\n",
       "      <td>0.017392</td>\n",
       "    </tr>\n",
       "    <tr>\n",
       "      <th>2018-09-28</th>\n",
       "      <td>1.952947e+09</td>\n",
       "      <td>21.09</td>\n",
       "      <td>21.13</td>\n",
       "      <td>21.02</td>\n",
       "      <td>21.94</td>\n",
       "      <td>0</td>\n",
       "      <td>0</td>\n",
       "      <td>0</td>\n",
       "      <td>0</td>\n",
       "      <td>0</td>\n",
       "      <td>...</td>\n",
       "      <td>0</td>\n",
       "      <td>0</td>\n",
       "      <td>0</td>\n",
       "      <td>0</td>\n",
       "      <td>-1</td>\n",
       "      <td>0.054001</td>\n",
       "      <td>False</td>\n",
       "      <td>-0.004277</td>\n",
       "      <td>0.0</td>\n",
       "      <td>0.004277</td>\n",
       "    </tr>\n",
       "    <tr>\n",
       "      <th>2018-10-01</th>\n",
       "      <td>1.182549e+09</td>\n",
       "      <td>21.00</td>\n",
       "      <td>21.25</td>\n",
       "      <td>20.80</td>\n",
       "      <td>21.36</td>\n",
       "      <td>0</td>\n",
       "      <td>0</td>\n",
       "      <td>0</td>\n",
       "      <td>0</td>\n",
       "      <td>0</td>\n",
       "      <td>...</td>\n",
       "      <td>0</td>\n",
       "      <td>0</td>\n",
       "      <td>0</td>\n",
       "      <td>0</td>\n",
       "      <td>1</td>\n",
       "      <td>0.054001</td>\n",
       "      <td>False</td>\n",
       "      <td>0.083115</td>\n",
       "      <td>0.0</td>\n",
       "      <td>-0.083115</td>\n",
       "    </tr>\n",
       "    <tr>\n",
       "      <th>2018-10-02</th>\n",
       "      <td>2.840932e+09</td>\n",
       "      <td>22.82</td>\n",
       "      <td>22.00</td>\n",
       "      <td>21.90</td>\n",
       "      <td>22.82</td>\n",
       "      <td>0</td>\n",
       "      <td>0</td>\n",
       "      <td>0</td>\n",
       "      <td>0</td>\n",
       "      <td>0</td>\n",
       "      <td>...</td>\n",
       "      <td>0</td>\n",
       "      <td>0</td>\n",
       "      <td>0</td>\n",
       "      <td>0</td>\n",
       "      <td>1</td>\n",
       "      <td>0.054001</td>\n",
       "      <td>False</td>\n",
       "      <td>0.041628</td>\n",
       "      <td>0.0</td>\n",
       "      <td>-0.041628</td>\n",
       "    </tr>\n",
       "    <tr>\n",
       "      <th>2018-10-03</th>\n",
       "      <td>3.645505e+09</td>\n",
       "      <td>23.79</td>\n",
       "      <td>25.25</td>\n",
       "      <td>23.46</td>\n",
       "      <td>25.42</td>\n",
       "      <td>0</td>\n",
       "      <td>0</td>\n",
       "      <td>0</td>\n",
       "      <td>0</td>\n",
       "      <td>0</td>\n",
       "      <td>...</td>\n",
       "      <td>0</td>\n",
       "      <td>0</td>\n",
       "      <td>0</td>\n",
       "      <td>0</td>\n",
       "      <td>-1</td>\n",
       "      <td>0.054001</td>\n",
       "      <td>False</td>\n",
       "      <td>NaN</td>\n",
       "      <td>0.0</td>\n",
       "      <td>NaN</td>\n",
       "    </tr>\n",
       "  </tbody>\n",
       "</table>\n",
       "<p>5 rows × 22 columns</p>\n",
       "</div>"
      ],
      "text/plain": [
       "                  volume  close   open    low   high  c1  c2  c3  c4  c5  \\\n",
       "Data                                                                       \n",
       "2018-09-27  2.178390e+09  21.46  20.50  20.47  21.46   0   0   0   0   0   \n",
       "2018-09-28  1.952947e+09  21.09  21.13  21.02  21.94   0   0   0   0   0   \n",
       "2018-10-01  1.182549e+09  21.00  21.25  20.80  21.36   0   0   0   0   0   \n",
       "2018-10-02  2.840932e+09  22.82  22.00  21.90  22.82   0   0   0   0   0   \n",
       "2018-10-03  3.645505e+09  23.79  25.25  23.46  25.42   0   0   0   0   0   \n",
       "\n",
       "                ...        c8  c9  c10  c11  y    y_pred  y_pred2  \\\n",
       "Data            ...                                                 \n",
       "2018-09-27      ...         0   0  100    0 -1  0.054001    False   \n",
       "2018-09-28      ...         0   0    0    0 -1  0.054001    False   \n",
       "2018-10-01      ...         0   0    0    0  1  0.054001    False   \n",
       "2018-10-02      ...         0   0    0    0  1  0.054001    False   \n",
       "2018-10-03      ...         0   0    0    0 -1  0.054001    False   \n",
       "\n",
       "            tomorrow_ret  strategy_ret  strategy_ret2  \n",
       "Data                                                   \n",
       "2018-09-27     -0.017392           0.0       0.017392  \n",
       "2018-09-28     -0.004277           0.0       0.004277  \n",
       "2018-10-01      0.083115           0.0      -0.083115  \n",
       "2018-10-02      0.041628           0.0      -0.041628  \n",
       "2018-10-03           NaN           0.0            NaN  \n",
       "\n",
       "[5 rows x 22 columns]"
      ]
     },
     "execution_count": 40,
     "metadata": {},
     "output_type": "execute_result"
    }
   ],
   "source": [
    "petr4f.tail(5)"
   ]
  },
  {
   "cell_type": "code",
   "execution_count": 36,
   "metadata": {
    "collapsed": true
   },
   "outputs": [],
   "source": [
    "from sklearn.metrics import roc_curve, roc_auc_score, auc\n",
    "def roc_curva(df):\n",
    "    fpr=dict()\n",
    "    tpr=dict()\n",
    "    roc_auc=dict()\n",
    "    for i in range(2):   #duas classes\n",
    "        fpr[i],tpr[i],__= roc_curve(df[\"y\"],df['y_pred'])\n",
    "        roc_auc[i] = auc(fpr[i],tpr[i])   #calcula a area\n",
    "    #\n",
    "    fpr[\"micro\"],tpr[\"micro\"], _ = roc_curve(df[\"y\"],df['y_pred'])\n",
    "    roc_auc[\"micro\"] = auc(fpr[\"micro\"],tpr[\"micro\"])    \n",
    "    print(\"ROC area: \",roc_auc_score(df[\"y\"],df['y_pred']))\n",
    "    plt.plot(fpr[1],tpr[1],color=\"darkorange\",lw=2,label=\"ROC area= %0.3f\" % roc_auc[1])\n",
    "    plt.plot([0,1],[0,1],color=\"navy\",lw=1,linestyle=\"--\")\n",
    "    plt.legend(loc=\"best\")\n",
    "    plt.ylabel(\"True Positive Rate\")\n",
    "    plt.xlabel(\"False Positive Rate\")\n",
    "    return plt.show()"
   ]
  },
  {
   "cell_type": "code",
   "execution_count": 37,
   "metadata": {},
   "outputs": [
    {
     "name": "stdout",
     "output_type": "stream",
     "text": [
      "ROC area:  0.5100319648570631\n"
     ]
    },
    {
     "data": {
      "image/png": "[encoded data removed]",
      "text/plain": [
       "<matplotlib.figure.Figure at 0x1c3f6ebdd8>"
      ]
     },
     "metadata": {},
     "output_type": "display_data"
    }
   ],
   "source": [
    "roc_curva(petr4f)"
   ]
  },
  {
   "cell_type": "code",
   "execution_count": 38,
   "metadata": {
    "collapsed": true
   },
   "outputs": [],
   "source": [
    "def retornos(df,n_dias=100):\n",
    "    df=df[-n_dias+1:]\n",
    "    df[\"cum_market_ret\"]=np.cumsum(df[\"tomorrow_ret\"])\n",
    "    df[\"cum_long_ret\"]=np.cumsum(df[\"strategy_ret\"])\n",
    "    df[\"cum_long_short_ret\"]=np.cumsum(df[\"strategy_ret2\"])\n",
    "    ##\n",
    "    print(\"Retorno dos últimos \",n_dias,\"  dias\")\n",
    "    A=df[\"cum_market_ret\"][-2]*100\n",
    "    print(\"Market Return Cumulative em %\",A)\n",
    "    B=df[\"cum_long_ret\"][-2]*100\n",
    "    print(\"Strategy Long Cumulative em %\",B)\n",
    "    C=df[\"cum_long_short_ret\"][-2]*100\n",
    "    print(\"Strategy Long_short Cumulative em %\",C)\n",
    "    print(\"--------------------------\")\n",
    "    plt.figure(figsize=(10,5))\n",
    "    plt.plot(df[\"cum_market_ret\"],color=\"r\",label=\"Market Return:   %.2f\" %A)\n",
    "    plt.plot(df[\"cum_long_ret\"],color=\"b\",label=\"Long Return:  %.2f\" %B)\n",
    "    plt.plot(df[\"cum_long_short_ret\"],color=\"orange\",label=\"Long_short Return  %.2f\" %C,lw=2,linestyle=\"--\")\n",
    "    plt.legend(loc=\"best\")\n",
    "    return plt.show()"
   ]
  },
  {
   "cell_type": "code",
   "execution_count": 39,
   "metadata": {},
   "outputs": [
    {
     "name": "stderr",
     "output_type": "stream",
     "text": [
      "/Users/igoracmorais/anaconda3/lib/python3.6/site-packages/ipykernel_launcher.py:3: SettingWithCopyWarning: \n",
      "A value is trying to be set on a copy of a slice from a DataFrame.\n",
      "Try using .loc[row_indexer,col_indexer] = value instead\n",
      "\n",
      "See the caveats in the documentation: http://pandas.pydata.org/pandas-docs/stable/indexing.html#indexing-view-versus-copy\n",
      "  This is separate from the ipykernel package so we can avoid doing imports until\n",
      "/Users/igoracmorais/anaconda3/lib/python3.6/site-packages/ipykernel_launcher.py:4: SettingWithCopyWarning: \n",
      "A value is trying to be set on a copy of a slice from a DataFrame.\n",
      "Try using .loc[row_indexer,col_indexer] = value instead\n",
      "\n",
      "See the caveats in the documentation: http://pandas.pydata.org/pandas-docs/stable/indexing.html#indexing-view-versus-copy\n",
      "  after removing the cwd from sys.path.\n",
      "/Users/igoracmorais/anaconda3/lib/python3.6/site-packages/ipykernel_launcher.py:5: SettingWithCopyWarning: \n",
      "A value is trying to be set on a copy of a slice from a DataFrame.\n",
      "Try using .loc[row_indexer,col_indexer] = value instead\n",
      "\n",
      "See the caveats in the documentation: http://pandas.pydata.org/pandas-docs/stable/indexing.html#indexing-view-versus-copy\n",
      "  \"\"\"\n"
     ]
    },
    {
     "name": "stdout",
     "output_type": "stream",
     "text": [
      "Retorno dos últimos  100   dias\n",
      "Market Return Cumulative em % -11.426722907913742\n",
      "Strategy Long Cumulative em % 0.0\n",
      "Strategy Long_short Cumulative em % 11.426722907913742\n",
      "--------------------------\n"
     ]
    },
    {
     "data": {
      "image/png": "[encoded data removed]",
      "text/plain": [
       "<matplotlib.figure.Figure at 0x1c3f709c88>"
      ]
     },
     "metadata": {},
     "output_type": "display_data"
    }
   ],
   "source": [
    "retornos(petr4f)"
   ]
  },
  {
   "cell_type": "code",
   "execution_count": null,
   "metadata": {
    "collapsed": true
   },
   "outputs": [],
   "source": []
  }
 ],
 "metadata": {
  "kernelspec": {
   "display_name": "Python 3",
   "language": "python",
   "name": "python3"
  },
  "language_info": {
   "codemirror_mode": {
    "name": "ipython",
    "version": 3
   },
   "file_extension": ".py",
   "mimetype": "text/x-python",
   "name": "python",
   "nbconvert_exporter": "python",
   "pygments_lexer": "ipython3",
   "version": "3.6.3"
  }
 },
 "nbformat": 4,
 "nbformat_minor": 2
}
