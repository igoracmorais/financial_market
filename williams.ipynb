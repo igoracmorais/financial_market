{
 "cells": [
  {
   "cell_type": "code",
   "execution_count": 1,
   "metadata": {},
   "outputs": [
    {
     "data": {
      "text/plain": [
       "'/Users/igoracmorais/igor/Wise&Trust/CPM_trading2/assets-management/Trading/Rotines/Python'"
      ]
     },
     "execution_count": 1,
     "metadata": {},
     "output_type": "execute_result"
    }
   ],
   "source": [
    "import pandas as pd\n",
    "import numpy as np\n",
    "import talib as ta\n",
    "from mpl_finance import candlestick_ohlc\n",
    "import matplotlib.dates as mdates\n",
    "import matplotlib.pyplot as plt\n",
    "%matplotlib inline\n",
    "import seaborn as sns\n",
    "import os\n",
    "from scipy.signal import argrelextrema, find_peaks_cwt\n",
    "import json\n",
    "from bs4 import BeautifulSoup\n",
    "import requests \n",
    "import urllib.request\n",
    "import datetime\n",
    "from datetime import timedelta, datetime\n",
    "import time\n",
    "from scipy import signal\n",
    "diretorio= os.getcwd()\n",
    "diretorio"
   ]
  },
  {
   "cell_type": "code",
   "execution_count": 10,
   "metadata": {
    "collapsed": true
   },
   "outputs": [],
   "source": [
    "data=pd.read_csv(diretorio+\"/btc.csv\",sep=\";\",index_col=\"datetime\")"
   ]
  },
  {
   "cell_type": "code",
   "execution_count": 11,
   "metadata": {
    "collapsed": true
   },
   "outputs": [],
   "source": [
    "def william(data,time=[]):\n",
    "    for w in time:\n",
    "        data[\"will_\"+str(w)]=ta.WILLR(data.high, data.low, data.close, timeperiod=w)\n",
    "        # sinal over\n",
    "        data[\"will_\"+str(w)+\"_\"+\"s\"]=0\n",
    "        data.loc[(data[\"will_\"+str(w)+\"_\"+\"s\"] > -50),\"will_\"+str(w)+\"_\"+\"s\"]=1\n",
    "        data.loc[(data[\"will_\"+str(w)+\"_\"+\"s\"] <= -50),\"will_\"+str(w)+\"_\"+\"s\"]=-1\n",
    "        # sinal turning point\n",
    "        data=turning_point(data,coluna=[\"will_\"+str(w)])\n",
    "    return data"
   ]
  },
  {
   "cell_type": "code",
   "execution_count": 22,
   "metadata": {
    "collapsed": true
   },
   "outputs": [],
   "source": [
    "# Candlestick graph\n",
    "def candle_will(data,n=200,nome_coluna_datas=\"datetime\",sinal1=\"will_21\",sinal2=\"tp_will_21\"):\n",
    "    ohlc=data.reset_index()[-n:]\n",
    "    ohlc[nome_coluna_datas]=pd.to_datetime(ohlc[nome_coluna_datas])\n",
    "    ohlc[nome_coluna_datas]=ohlc[nome_coluna_datas].apply(mdates.date2num)\n",
    "    #\n",
    "    plt.style.use('fivethirtyeight')\n",
    "    fig = plt.figure(figsize=(6,8)) \n",
    "    ax1 = plt.subplot2grid((6,1), (0, 0),rowspan=3)\n",
    "    ax2 = plt.subplot2grid((6,1), (3, 0),rowspan=2)\n",
    "    ax1.axes.get_xaxis().set_visible(False)\n",
    "    ax2.axes.get_xaxis().set_visible(False)\n",
    "    candlestick_ohlc(ax1, ohlc.values, width=.6, colorup='green', colordown='red')\n",
    "    # sinal1\n",
    "    pos_signal = ohlc[sinal1].copy()\n",
    "    neg_signal = ohlc[sinal1].copy()\n",
    "    pos_signal[pos_signal <= -50] = np.nan\n",
    "    neg_signal[neg_signal >= -50] = np.nan\n",
    "    ax2.plot(ohlc[nome_coluna_datas], pos_signal, color = 'green', lw=1,linestyle=\":\")\n",
    "    ax2.plot(ohlc[nome_coluna_datas], neg_signal, color = 'red', lw=1,linestyle=\":\")\n",
    "    plt.xticks(fontsize=8)\n",
    "    return plt.show()"
   ]
  },
  {
   "cell_type": "code",
   "execution_count": 13,
   "metadata": {
    "collapsed": true
   },
   "outputs": [],
   "source": [
    "def turning_point(data,coluna=[],ordem=3):\n",
    "    for coluna in coluna:\n",
    "        data[coluna+'_min'] = data.iloc[argrelextrema(data[coluna].values, \n",
    "                                                  np.less_equal, order=ordem)[0]][coluna]\n",
    "        data[coluna+'_max'] = data.iloc[argrelextrema(data[coluna].values, \n",
    "                                                  np.greater_equal, order=ordem)[0]][coluna]\n",
    "        data[coluna+'_min'].fillna(0,inplace=True)\n",
    "        data[coluna+'_max'].fillna(0,inplace=True)\n",
    "        data[\"tp_\"+coluna]=0\n",
    "        data.loc[data[coluna+'_min']>0,\"tp_\"+coluna]=1\n",
    "        data.loc[data[coluna+'_max']>0,\"tp_\"+coluna]=-1\n",
    "        data[[coluna+'_min',coluna+'_max']]=np.nan\n",
    "        data.drop([coluna+'_min',coluna+'_max'],axis=1,inplace=True)\n",
    "    return data"
   ]
  },
  {
   "cell_type": "markdown",
   "metadata": {},
   "source": [
    "## Exemplo:"
   ]
  },
  {
   "cell_type": "code",
   "execution_count": 14,
   "metadata": {},
   "outputs": [
    {
     "name": "stderr",
     "output_type": "stream",
     "text": [
      "/Users/igoracmorais/anaconda3/lib/python3.6/site-packages/scipy/signal/_peak_finding.py:73: RuntimeWarning: invalid value encountered in less_equal\n",
      "  results &= comparator(main, plus)\n",
      "/Users/igoracmorais/anaconda3/lib/python3.6/site-packages/scipy/signal/_peak_finding.py:74: RuntimeWarning: invalid value encountered in less_equal\n",
      "  results &= comparator(main, minus)\n",
      "/Users/igoracmorais/anaconda3/lib/python3.6/site-packages/scipy/signal/_peak_finding.py:73: RuntimeWarning: invalid value encountered in greater_equal\n",
      "  results &= comparator(main, plus)\n",
      "/Users/igoracmorais/anaconda3/lib/python3.6/site-packages/scipy/signal/_peak_finding.py:74: RuntimeWarning: invalid value encountered in greater_equal\n",
      "  results &= comparator(main, minus)\n"
     ]
    },
    {
     "data": {
      "text/html": [
       "<div>\n",
       "<style>\n",
       "    .dataframe thead tr:only-child th {\n",
       "        text-align: right;\n",
       "    }\n",
       "\n",
       "    .dataframe thead th {\n",
       "        text-align: left;\n",
       "    }\n",
       "\n",
       "    .dataframe tbody tr th {\n",
       "        vertical-align: top;\n",
       "    }\n",
       "</style>\n",
       "<table border=\"1\" class=\"dataframe\">\n",
       "  <thead>\n",
       "    <tr style=\"text-align: right;\">\n",
       "      <th></th>\n",
       "      <th>open</th>\n",
       "      <th>high</th>\n",
       "      <th>low</th>\n",
       "      <th>close</th>\n",
       "      <th>volume</th>\n",
       "      <th>will_7</th>\n",
       "      <th>will_7_s</th>\n",
       "      <th>tp_will_7</th>\n",
       "      <th>will_14</th>\n",
       "      <th>will_14_s</th>\n",
       "      <th>tp_will_14</th>\n",
       "      <th>will_21</th>\n",
       "      <th>will_21_s</th>\n",
       "      <th>tp_will_21</th>\n",
       "    </tr>\n",
       "    <tr>\n",
       "      <th>datetime</th>\n",
       "      <th></th>\n",
       "      <th></th>\n",
       "      <th></th>\n",
       "      <th></th>\n",
       "      <th></th>\n",
       "      <th></th>\n",
       "      <th></th>\n",
       "      <th></th>\n",
       "      <th></th>\n",
       "      <th></th>\n",
       "      <th></th>\n",
       "      <th></th>\n",
       "      <th></th>\n",
       "      <th></th>\n",
       "    </tr>\n",
       "  </thead>\n",
       "  <tbody>\n",
       "    <tr>\n",
       "      <th>2018-10-21</th>\n",
       "      <td>6490.60</td>\n",
       "      <td>6557.39</td>\n",
       "      <td>6474.47</td>\n",
       "      <td>6509.87</td>\n",
       "      <td>1.052839e+08</td>\n",
       "      <td>-73.223845</td>\n",
       "      <td>1</td>\n",
       "      <td>0</td>\n",
       "      <td>-68.207135</td>\n",
       "      <td>1</td>\n",
       "      <td>0</td>\n",
       "      <td>-68.207135</td>\n",
       "      <td>1</td>\n",
       "      <td>0</td>\n",
       "    </tr>\n",
       "    <tr>\n",
       "      <th>2018-10-22</th>\n",
       "      <td>6509.87</td>\n",
       "      <td>6531.23</td>\n",
       "      <td>6460.38</td>\n",
       "      <td>6483.23</td>\n",
       "      <td>2.027669e+08</td>\n",
       "      <td>-73.356401</td>\n",
       "      <td>1</td>\n",
       "      <td>0</td>\n",
       "      <td>-70.713533</td>\n",
       "      <td>1</td>\n",
       "      <td>0</td>\n",
       "      <td>-70.713533</td>\n",
       "      <td>1</td>\n",
       "      <td>0</td>\n",
       "    </tr>\n",
       "    <tr>\n",
       "      <th>2018-10-23</th>\n",
       "      <td>6484.32</td>\n",
       "      <td>6490.71</td>\n",
       "      <td>6450.55</td>\n",
       "      <td>6450.55</td>\n",
       "      <td>1.040892e+08</td>\n",
       "      <td>-77.937938</td>\n",
       "      <td>1</td>\n",
       "      <td>0</td>\n",
       "      <td>-73.788198</td>\n",
       "      <td>1</td>\n",
       "      <td>0</td>\n",
       "      <td>-73.788198</td>\n",
       "      <td>1</td>\n",
       "      <td>0</td>\n",
       "    </tr>\n",
       "  </tbody>\n",
       "</table>\n",
       "</div>"
      ],
      "text/plain": [
       "               open     high      low    close        volume     will_7  \\\n",
       "datetime                                                                  \n",
       "2018-10-21  6490.60  6557.39  6474.47  6509.87  1.052839e+08 -73.223845   \n",
       "2018-10-22  6509.87  6531.23  6460.38  6483.23  2.027669e+08 -73.356401   \n",
       "2018-10-23  6484.32  6490.71  6450.55  6450.55  1.040892e+08 -77.937938   \n",
       "\n",
       "            will_7_s  tp_will_7    will_14  will_14_s  tp_will_14    will_21  \\\n",
       "datetime                                                                       \n",
       "2018-10-21         1          0 -68.207135          1           0 -68.207135   \n",
       "2018-10-22         1          0 -70.713533          1           0 -70.713533   \n",
       "2018-10-23         1          0 -73.788198          1           0 -73.788198   \n",
       "\n",
       "            will_21_s  tp_will_21  \n",
       "datetime                           \n",
       "2018-10-21          1           0  \n",
       "2018-10-22          1           0  \n",
       "2018-10-23          1           0  "
      ]
     },
     "execution_count": 14,
     "metadata": {},
     "output_type": "execute_result"
    }
   ],
   "source": [
    "df=william(data,time=[7,14,21])\n",
    "df.tail(3)"
   ]
  },
  {
   "cell_type": "code",
   "execution_count": 23,
   "metadata": {},
   "outputs": [
    {
     "data": {
      "image/png": "[encoded data removed]",
      "text/plain": [
       "<matplotlib.figure.Figure at 0x11173a6a0>"
      ]
     },
     "metadata": {},
     "output_type": "display_data"
    }
   ],
   "source": [
    "candle_will(df)"
   ]
  },
  {
   "cell_type": "code",
   "execution_count": null,
   "metadata": {
    "collapsed": true
   },
   "outputs": [],
   "source": []
  }
 ],
 "metadata": {
  "kernelspec": {
   "display_name": "Python 3",
   "language": "python",
   "name": "python3"
  },
  "language_info": {
   "codemirror_mode": {
    "name": "ipython",
    "version": 3
   },
   "file_extension": ".py",
   "mimetype": "text/x-python",
   "name": "python",
   "nbconvert_exporter": "python",
   "pygments_lexer": "ipython3",
   "version": "3.6.3"
  }
 },
 "nbformat": 4,
 "nbformat_minor": 2
}
