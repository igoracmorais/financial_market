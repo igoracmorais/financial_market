{
 "cells": [
  {
   "cell_type": "code",
   "execution_count": 1,
   "metadata": {},
   "outputs": [
    {
     "data": {
      "text/plain": [
       "'/Users/igoracmorais/igor/Wise&Trust/CPM_trading2/Trading/Rotines/Python'"
      ]
     },
     "execution_count": 1,
     "metadata": {},
     "output_type": "execute_result"
    }
   ],
   "source": [
    "import pandas as pd\n",
    "import numpy as np\n",
    "import talib as ta\n",
    "from matplotlib.finance import candlestick_ohlc\n",
    "import matplotlib.dates as mdates\n",
    "import matplotlib.pyplot as plt\n",
    "%matplotlib inline\n",
    "import seaborn as sns\n",
    "import os\n",
    "from scipy.signal import argrelextrema\n",
    "import json\n",
    "from bs4 import BeautifulSoup\n",
    "import requests \n",
    "import urllib.request\n",
    "import datetime\n",
    "from datetime import timedelta, datetime\n",
    "import time\n",
    "diretorio= os.getcwd()\n",
    "diretorio"
   ]
  },
  {
   "cell_type": "code",
   "execution_count": 252,
   "metadata": {
    "collapsed": true
   },
   "outputs": [],
   "source": [
    "data=pd.read_csv(diretorio+\"/btc.csv\",sep=\";\",index_col=\"datetime\")\n",
    "def macd(data,n=200,nome_coluna_datas=\"datetime\",EMA_fast=[],EMA_slow=[]):\n",
    "    for a in EMA_fast:\n",
    "        for b in EMA_slow:\n",
    "            data['macd'+str(a)+str(b)],data['macdsignal'+str(a)+str(b)],data['macdhist'+str(a)+str(b)]=ta.MACD(data.close,\n",
    "                                                                                                               fastperiod=a,\n",
    "                                                                                                               slowperiod=b,\n",
    "                                                                                                               signalperiod=9)\n",
    "            data['EMA'+str(b)]=ta.EMA(data.close,timeperiod=b)\n",
    "        data['EMA'+str(a)]=ta.EMA(data.close,timeperiod=a)\n",
    "    return data"
   ]
  },
  {
   "cell_type": "code",
   "execution_count": 222,
   "metadata": {
    "collapsed": true
   },
   "outputs": [],
   "source": [
    "# Candlestick graph\n",
    "def candle_graph(data,n=200,nome_coluna_datas=\"datetime\",coluna_macdisthist=\"macdhist\",\n",
    "                 coluna_macdsignal=\"macdsignal\",EMA_fast=[],EMA_slow=[]):\n",
    "    ohlc=data.reset_index()[-n:]\n",
    "    ohlc[nome_coluna_datas]=pd.to_datetime(ohlc[nome_coluna_datas])\n",
    "    ohlc[nome_coluna_datas]=ohlc[nome_coluna_datas].apply(mdates.date2num)\n",
    "    #\n",
    "    plt.style.use('fivethirtyeight')\n",
    "    fig = plt.figure(figsize=(6,8)) \n",
    "    ax1 = plt.subplot2grid((6,1), (0, 0),rowspan=3)\n",
    "    ax2 = plt.subplot2grid((6,1), (3, 0),rowspan=2)\n",
    "    ax3 = plt.subplot2grid((6,1), (5, 0),rowspan=1)\n",
    "    ax1.axes.get_xaxis().set_visible(False)\n",
    "    ax2.axes.get_xaxis().set_visible(False)\n",
    "    candlestick_ohlc(ax1, ohlc.values, width=.6, colorup='green', colordown='red')\n",
    "    g1,=ax1.plot(ohlc[nome_coluna_datas],ohlc['EMA'+str(EMA_fast)],lw=1,label='EMA'+str(EMA_fast),color='black')\n",
    "    g2,=ax1.plot(ohlc[nome_coluna_datas],ohlc['EMA'+str(EMA_slow)],lw=1,label='EMA'+str(EMA_slow),color='blue')\n",
    "    # macdhist\n",
    "    pos_signal = ohlc[coluna_macdisthist].copy()\n",
    "    neg_signal = ohlc[coluna_macdisthist].copy()\n",
    "    pos_signal[pos_signal <= 0] = np.nan\n",
    "    neg_signal[neg_signal > 0] = np.nan\n",
    "    ax2.bar(ohlc[nome_coluna_datas], pos_signal, color = 'green', lw=1,label=\"macdhist\")\n",
    "    ax2.bar(ohlc[nome_coluna_datas], neg_signal, color = 'red', lw=1)\n",
    "    # macdsignal\n",
    "    ax3.plot(ohlc[nome_coluna_datas],ohlc[coluna_macdsignal],lw=1,label=\"macdsignal\",color='black')\n",
    "    ax3.xaxis.set_major_formatter(mdates.DateFormatter('%Y-%m'))\n",
    "    import matplotlib.ticker as ticker\n",
    "    ax3.xaxis.set_major_locator(ticker.MaxNLocator(10))\n",
    "    plt.xticks(fontsize=8)\n",
    "    #\n",
    "    ax1.legend((g1,g2),['EMA'+str(EMA_fast),'EMA'+str(EMA_slow)],loc=\"best\",fontsize=8)\n",
    "    ax2.legend(loc=1,fontsize=8)\n",
    "    ax3.legend(loc=1,fontsize=8)\n",
    "    return plt.show()"
   ]
  },
  {
   "cell_type": "code",
   "execution_count": 262,
   "metadata": {
    "collapsed": true
   },
   "outputs": [],
   "source": [
    "def turning_point(data,coluna=[],ordem=3):\n",
    "    for coluna in coluna:\n",
    "        data[coluna+'_min'] = data.iloc[argrelextrema(data[coluna].values, \n",
    "                                                  np.less_equal, order=ordem)[0]][coluna]\n",
    "        data[coluna+'_max'] = data.iloc[argrelextrema(data[coluna].values, \n",
    "                                                  np.greater_equal, order=ordem)[0]][coluna]\n",
    "        data[coluna+'_min'].fillna(0,inplace=True)\n",
    "        data[coluna+'_max'].fillna(0,inplace=True)\n",
    "        data[\"tp_\"+coluna]=0\n",
    "        data.loc[data[coluna+'_min']>0,\"tp_\"+coluna]=1\n",
    "        data.loc[data[coluna+'_max']>0,\"tp_\"+coluna]=-1\n",
    "        data[[coluna+'_min',coluna+'_max']]=np.nan\n",
    "        data.drop([coluna+'_min',coluna+'_max'],axis=1,inplace=True)\n",
    "    return data"
   ]
  },
  {
   "cell_type": "markdown",
   "metadata": {},
   "source": [
    "## exemplo"
   ]
  },
  {
   "cell_type": "code",
   "execution_count": 263,
   "metadata": {},
   "outputs": [
    {
     "name": "stderr",
     "output_type": "stream",
     "text": [
      "/Users/igoracmorais/anaconda3/lib/python3.6/site-packages/scipy/signal/_peak_finding.py:68: RuntimeWarning: invalid value encountered in less_equal\n",
      "  results &= comparator(main, plus)\n",
      "/Users/igoracmorais/anaconda3/lib/python3.6/site-packages/scipy/signal/_peak_finding.py:69: RuntimeWarning: invalid value encountered in less_equal\n",
      "  results &= comparator(main, minus)\n",
      "/Users/igoracmorais/anaconda3/lib/python3.6/site-packages/scipy/signal/_peak_finding.py:68: RuntimeWarning: invalid value encountered in greater_equal\n",
      "  results &= comparator(main, plus)\n",
      "/Users/igoracmorais/anaconda3/lib/python3.6/site-packages/scipy/signal/_peak_finding.py:69: RuntimeWarning: invalid value encountered in greater_equal\n",
      "  results &= comparator(main, minus)\n"
     ]
    },
    {
     "data": {
      "text/html": [
       "<div>\n",
       "<style>\n",
       "    .dataframe thead tr:only-child th {\n",
       "        text-align: right;\n",
       "    }\n",
       "\n",
       "    .dataframe thead th {\n",
       "        text-align: left;\n",
       "    }\n",
       "\n",
       "    .dataframe tbody tr th {\n",
       "        vertical-align: top;\n",
       "    }\n",
       "</style>\n",
       "<table border=\"1\" class=\"dataframe\">\n",
       "  <thead>\n",
       "    <tr style=\"text-align: right;\">\n",
       "      <th></th>\n",
       "      <th>open</th>\n",
       "      <th>high</th>\n",
       "      <th>low</th>\n",
       "      <th>close</th>\n",
       "      <th>volume</th>\n",
       "      <th>macd</th>\n",
       "      <th>macdsignal</th>\n",
       "      <th>macdhist</th>\n",
       "      <th>EMA12</th>\n",
       "      <th>EMA26</th>\n",
       "      <th>tp_close</th>\n",
       "      <th>tp_macdhist</th>\n",
       "      <th>tp_macd</th>\n",
       "      <th>tp_macdsignal</th>\n",
       "    </tr>\n",
       "    <tr>\n",
       "      <th>datetime</th>\n",
       "      <th></th>\n",
       "      <th></th>\n",
       "      <th></th>\n",
       "      <th></th>\n",
       "      <th></th>\n",
       "      <th></th>\n",
       "      <th></th>\n",
       "      <th></th>\n",
       "      <th></th>\n",
       "      <th></th>\n",
       "      <th></th>\n",
       "      <th></th>\n",
       "      <th></th>\n",
       "      <th></th>\n",
       "    </tr>\n",
       "  </thead>\n",
       "  <tbody>\n",
       "    <tr>\n",
       "      <th>2018-10-13</th>\n",
       "      <td>6252.10</td>\n",
       "      <td>6280.73</td>\n",
       "      <td>6238.92</td>\n",
       "      <td>6267.27</td>\n",
       "      <td>1.377050e+08</td>\n",
       "      <td>-61.925808</td>\n",
       "      <td>-25.310928</td>\n",
       "      <td>-36.614880</td>\n",
       "      <td>6457.530621</td>\n",
       "      <td>6519.456429</td>\n",
       "      <td>0</td>\n",
       "      <td>0</td>\n",
       "      <td>0</td>\n",
       "      <td>0</td>\n",
       "    </tr>\n",
       "    <tr>\n",
       "      <th>2018-10-14</th>\n",
       "      <td>6267.27</td>\n",
       "      <td>6346.56</td>\n",
       "      <td>6247.17</td>\n",
       "      <td>6277.73</td>\n",
       "      <td>2.154229e+08</td>\n",
       "      <td>-71.681781</td>\n",
       "      <td>-34.585099</td>\n",
       "      <td>-37.096682</td>\n",
       "      <td>6429.868987</td>\n",
       "      <td>6501.550768</td>\n",
       "      <td>0</td>\n",
       "      <td>0</td>\n",
       "      <td>0</td>\n",
       "      <td>0</td>\n",
       "    </tr>\n",
       "    <tr>\n",
       "      <th>2018-10-15</th>\n",
       "      <td>6277.73</td>\n",
       "      <td>7234.83</td>\n",
       "      <td>6244.77</td>\n",
       "      <td>6612.36</td>\n",
       "      <td>1.190524e+09</td>\n",
       "      <td>-51.814332</td>\n",
       "      <td>-38.030945</td>\n",
       "      <td>-13.783386</td>\n",
       "      <td>6457.944528</td>\n",
       "      <td>6509.758859</td>\n",
       "      <td>-1</td>\n",
       "      <td>0</td>\n",
       "      <td>0</td>\n",
       "      <td>0</td>\n",
       "    </tr>\n",
       "    <tr>\n",
       "      <th>2018-10-16</th>\n",
       "      <td>6612.69</td>\n",
       "      <td>6612.99</td>\n",
       "      <td>6583.30</td>\n",
       "      <td>6606.12</td>\n",
       "      <td>8.020117e+06</td>\n",
       "      <td>-36.155967</td>\n",
       "      <td>-37.655950</td>\n",
       "      <td>1.499982</td>\n",
       "      <td>6480.740754</td>\n",
       "      <td>6516.896721</td>\n",
       "      <td>0</td>\n",
       "      <td>-1</td>\n",
       "      <td>0</td>\n",
       "      <td>0</td>\n",
       "    </tr>\n",
       "  </tbody>\n",
       "</table>\n",
       "</div>"
      ],
      "text/plain": [
       "               open     high      low    close        volume       macd  \\\n",
       "datetime                                                                  \n",
       "2018-10-13  6252.10  6280.73  6238.92  6267.27  1.377050e+08 -61.925808   \n",
       "2018-10-14  6267.27  6346.56  6247.17  6277.73  2.154229e+08 -71.681781   \n",
       "2018-10-15  6277.73  7234.83  6244.77  6612.36  1.190524e+09 -51.814332   \n",
       "2018-10-16  6612.69  6612.99  6583.30  6606.12  8.020117e+06 -36.155967   \n",
       "\n",
       "            macdsignal   macdhist        EMA12        EMA26  tp_close  \\\n",
       "datetime                                                                \n",
       "2018-10-13  -25.310928 -36.614880  6457.530621  6519.456429         0   \n",
       "2018-10-14  -34.585099 -37.096682  6429.868987  6501.550768         0   \n",
       "2018-10-15  -38.030945 -13.783386  6457.944528  6509.758859        -1   \n",
       "2018-10-16  -37.655950   1.499982  6480.740754  6516.896721         0   \n",
       "\n",
       "            tp_macdhist  tp_macd  tp_macdsignal  \n",
       "datetime                                         \n",
       "2018-10-13            0        0              0  \n",
       "2018-10-14            0        0              0  \n",
       "2018-10-15            0        0              0  \n",
       "2018-10-16           -1        0              0  "
      ]
     },
     "execution_count": 263,
     "metadata": {},
     "output_type": "execute_result"
    }
   ],
   "source": [
    "df=macd(data,EMA_fast=12,EMA_slow=26)\n",
    "df=turning_point(df,coluna=[\"macd\",\"macdsignal\",\"macdhist\"])\n",
    "df.tail(4)"
   ]
  },
  {
   "cell_type": "code",
   "execution_count": 264,
   "metadata": {},
   "outputs": [
    {
     "data": {
      "image/png": "[encoded data removed]",
      "text/plain": [
       "<matplotlib.figure.Figure at 0x1c0f1c9ef0>"
      ]
     },
     "metadata": {},
     "output_type": "display_data"
    }
   ],
   "source": [
    "candle_graph(df,EMA_fast=12,EMA_slow=26)"
   ]
  },
  {
   "cell_type": "code",
   "execution_count": null,
   "metadata": {
    "collapsed": true
   },
   "outputs": [],
   "source": []
  }
 ],
 "metadata": {
  "kernelspec": {
   "display_name": "Python 3",
   "language": "python",
   "name": "python3"
  },
  "language_info": {
   "codemirror_mode": {
    "name": "ipython",
    "version": 3
   },
   "file_extension": ".py",
   "mimetype": "text/x-python",
   "name": "python",
   "nbconvert_exporter": "python",
   "pygments_lexer": "ipython3",
   "version": "3.6.3"
  }
 },
 "nbformat": 4,
 "nbformat_minor": 2
}
